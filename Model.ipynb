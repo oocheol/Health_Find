{
 "cells": [
  {
   "cell_type": "code",
   "execution_count": 301,
   "metadata": {},
   "outputs": [],
   "source": [
    "# Model 분석"
   ]
  },
  {
   "cell_type": "code",
   "execution_count": 302,
   "metadata": {},
   "outputs": [
    {
     "name": "stdout",
     "output_type": "stream",
     "text": [
      "<class 'pandas.core.frame.DataFrame'>\n",
      "RangeIndex: 297 entries, 0 to 296\n",
      "Data columns (total 5 columns):\n",
      " #   Column  Non-Null Count  Dtype \n",
      "---  ------  --------------  ----- \n",
      " 0   시설종류    297 non-null    object\n",
      " 1   실내/실외   297 non-null    object\n",
      " 2   종목      297 non-null    object\n",
      " 3   주소      297 non-null    object\n",
      " 4   이름      297 non-null    object\n",
      "dtypes: object(5)\n",
      "memory usage: 11.7+ KB\n"
     ]
    }
   ],
   "source": [
    "import numpy as np\n",
    "import pandas as pd\n",
    "\n",
    "\n",
    "df = pd.read_csv(\"./data/gwangju.csv\")\n",
    "df.info()"
   ]
  },
  {
   "cell_type": "code",
   "execution_count": 303,
   "metadata": {},
   "outputs": [
    {
     "data": {
      "text/html": [
       "<div>\n",
       "<style scoped>\n",
       "    .dataframe tbody tr th:only-of-type {\n",
       "        vertical-align: middle;\n",
       "    }\n",
       "\n",
       "    .dataframe tbody tr th {\n",
       "        vertical-align: top;\n",
       "    }\n",
       "\n",
       "    .dataframe thead th {\n",
       "        text-align: right;\n",
       "    }\n",
       "</style>\n",
       "<table border=\"1\" class=\"dataframe\">\n",
       "  <thead>\n",
       "    <tr style=\"text-align: right;\">\n",
       "      <th></th>\n",
       "      <th>시설종류</th>\n",
       "      <th>실내/실외</th>\n",
       "      <th>종목</th>\n",
       "      <th>주소</th>\n",
       "      <th>이름</th>\n",
       "    </tr>\n",
       "  </thead>\n",
       "  <tbody>\n",
       "    <tr>\n",
       "      <th>0</th>\n",
       "      <td>스포츠</td>\n",
       "      <td>실외</td>\n",
       "      <td>운동장</td>\n",
       "      <td>광주 북구 매곡동 238</td>\n",
       "      <td>전라남도공무원교육원 운동장</td>\n",
       "    </tr>\n",
       "    <tr>\n",
       "      <th>1</th>\n",
       "      <td>스포츠</td>\n",
       "      <td>실외</td>\n",
       "      <td>농구장</td>\n",
       "      <td>광주 북구 삼각동 792-1</td>\n",
       "      <td>가작어린이공원 농구장</td>\n",
       "    </tr>\n",
       "    <tr>\n",
       "      <th>2</th>\n",
       "      <td>스포츠</td>\n",
       "      <td>실외</td>\n",
       "      <td>풋살장</td>\n",
       "      <td>광주광역시 북구 군왕로274번길</td>\n",
       "      <td>각화1교 하부 생활체육공간</td>\n",
       "    </tr>\n",
       "  </tbody>\n",
       "</table>\n",
       "</div>"
      ],
      "text/plain": [
       "  시설종류 실내/실외   종목                 주소              이름\n",
       "0  스포츠    실외  운동장      광주 북구 매곡동 238  전라남도공무원교육원 운동장\n",
       "1  스포츠    실외  농구장    광주 북구 삼각동 792-1     가작어린이공원 농구장\n",
       "2  스포츠    실외  풋살장  광주광역시 북구 군왕로274번길  각화1교 하부 생활체육공간"
      ]
     },
     "execution_count": 303,
     "metadata": {},
     "output_type": "execute_result"
    }
   ],
   "source": [
    "df.head(3)"
   ]
  },
  {
   "cell_type": "code",
   "execution_count": 304,
   "metadata": {},
   "outputs": [],
   "source": [
    "df_temp = pd.get_dummies(df[['시설종류','실내/실외','종목']])"
   ]
  },
  {
   "cell_type": "code",
   "execution_count": 305,
   "metadata": {},
   "outputs": [
    {
     "data": {
      "text/html": [
       "<div>\n",
       "<style scoped>\n",
       "    .dataframe tbody tr th:only-of-type {\n",
       "        vertical-align: middle;\n",
       "    }\n",
       "\n",
       "    .dataframe tbody tr th {\n",
       "        vertical-align: top;\n",
       "    }\n",
       "\n",
       "    .dataframe thead th {\n",
       "        text-align: right;\n",
       "    }\n",
       "</style>\n",
       "<table border=\"1\" class=\"dataframe\">\n",
       "  <thead>\n",
       "    <tr style=\"text-align: right;\">\n",
       "      <th></th>\n",
       "      <th>시설종류_관광</th>\n",
       "      <th>시설종류_문화</th>\n",
       "      <th>시설종류_스포츠</th>\n",
       "      <th>실내/실외_실내</th>\n",
       "      <th>실내/실외_실외</th>\n",
       "      <th>종목_5.18운동</th>\n",
       "      <th>종목_건축</th>\n",
       "      <th>종목_게이트볼장</th>\n",
       "      <th>종목_공연장</th>\n",
       "      <th>종목_농구장</th>\n",
       "      <th>...</th>\n",
       "      <th>종목_족구장</th>\n",
       "      <th>종목_종교</th>\n",
       "      <th>종목_체육관</th>\n",
       "      <th>종목_체험</th>\n",
       "      <th>종목_축구장</th>\n",
       "      <th>종목_축제</th>\n",
       "      <th>종목_캠핑장</th>\n",
       "      <th>종목_탁구장</th>\n",
       "      <th>종목_테니스장</th>\n",
       "      <th>종목_풋살장</th>\n",
       "    </tr>\n",
       "  </thead>\n",
       "  <tbody>\n",
       "    <tr>\n",
       "      <th>0</th>\n",
       "      <td>0</td>\n",
       "      <td>0</td>\n",
       "      <td>1</td>\n",
       "      <td>0</td>\n",
       "      <td>1</td>\n",
       "      <td>0</td>\n",
       "      <td>0</td>\n",
       "      <td>0</td>\n",
       "      <td>0</td>\n",
       "      <td>0</td>\n",
       "      <td>...</td>\n",
       "      <td>0</td>\n",
       "      <td>0</td>\n",
       "      <td>0</td>\n",
       "      <td>0</td>\n",
       "      <td>0</td>\n",
       "      <td>0</td>\n",
       "      <td>0</td>\n",
       "      <td>0</td>\n",
       "      <td>0</td>\n",
       "      <td>0</td>\n",
       "    </tr>\n",
       "    <tr>\n",
       "      <th>1</th>\n",
       "      <td>0</td>\n",
       "      <td>0</td>\n",
       "      <td>1</td>\n",
       "      <td>0</td>\n",
       "      <td>1</td>\n",
       "      <td>0</td>\n",
       "      <td>0</td>\n",
       "      <td>0</td>\n",
       "      <td>0</td>\n",
       "      <td>1</td>\n",
       "      <td>...</td>\n",
       "      <td>0</td>\n",
       "      <td>0</td>\n",
       "      <td>0</td>\n",
       "      <td>0</td>\n",
       "      <td>0</td>\n",
       "      <td>0</td>\n",
       "      <td>0</td>\n",
       "      <td>0</td>\n",
       "      <td>0</td>\n",
       "      <td>0</td>\n",
       "    </tr>\n",
       "    <tr>\n",
       "      <th>2</th>\n",
       "      <td>0</td>\n",
       "      <td>0</td>\n",
       "      <td>1</td>\n",
       "      <td>0</td>\n",
       "      <td>1</td>\n",
       "      <td>0</td>\n",
       "      <td>0</td>\n",
       "      <td>0</td>\n",
       "      <td>0</td>\n",
       "      <td>0</td>\n",
       "      <td>...</td>\n",
       "      <td>0</td>\n",
       "      <td>0</td>\n",
       "      <td>0</td>\n",
       "      <td>0</td>\n",
       "      <td>0</td>\n",
       "      <td>0</td>\n",
       "      <td>0</td>\n",
       "      <td>0</td>\n",
       "      <td>0</td>\n",
       "      <td>1</td>\n",
       "    </tr>\n",
       "  </tbody>\n",
       "</table>\n",
       "<p>3 rows × 31 columns</p>\n",
       "</div>"
      ],
      "text/plain": [
       "   시설종류_관광  시설종류_문화  시설종류_스포츠  실내/실외_실내  실내/실외_실외  종목_5.18운동  종목_건축  종목_게이트볼장  \\\n",
       "0        0        0         1         0         1          0      0         0   \n",
       "1        0        0         1         0         1          0      0         0   \n",
       "2        0        0         1         0         1          0      0         0   \n",
       "\n",
       "   종목_공연장  종목_농구장  ...  종목_족구장  종목_종교  종목_체육관  종목_체험  종목_축구장  종목_축제  종목_캠핑장  \\\n",
       "0       0       0  ...       0      0       0      0       0      0       0   \n",
       "1       0       1  ...       0      0       0      0       0      0       0   \n",
       "2       0       0  ...       0      0       0      0       0      0       0   \n",
       "\n",
       "   종목_탁구장  종목_테니스장  종목_풋살장  \n",
       "0       0        0       0  \n",
       "1       0        0       0  \n",
       "2       0        0       1  \n",
       "\n",
       "[3 rows x 31 columns]"
      ]
     },
     "execution_count": 305,
     "metadata": {},
     "output_type": "execute_result"
    }
   ],
   "source": [
    "df_temp.head(3)"
   ]
  },
  {
   "cell_type": "code",
   "execution_count": 306,
   "metadata": {},
   "outputs": [
    {
     "data": {
      "text/html": [
       "<div>\n",
       "<style scoped>\n",
       "    .dataframe tbody tr th:only-of-type {\n",
       "        vertical-align: middle;\n",
       "    }\n",
       "\n",
       "    .dataframe tbody tr th {\n",
       "        vertical-align: top;\n",
       "    }\n",
       "\n",
       "    .dataframe thead th {\n",
       "        text-align: right;\n",
       "    }\n",
       "</style>\n",
       "<table border=\"1\" class=\"dataframe\">\n",
       "  <thead>\n",
       "    <tr style=\"text-align: right;\">\n",
       "      <th></th>\n",
       "      <th>지점</th>\n",
       "      <th>지점명</th>\n",
       "      <th>일시</th>\n",
       "      <th>평균기온(°C)</th>\n",
       "      <th>일강수량(mm)</th>\n",
       "      <th>평균 상대습도(%)</th>\n",
       "    </tr>\n",
       "  </thead>\n",
       "  <tbody>\n",
       "    <tr>\n",
       "      <th>0</th>\n",
       "      <td>156</td>\n",
       "      <td>광주</td>\n",
       "      <td>2021-06-01</td>\n",
       "      <td>23.5</td>\n",
       "      <td>0.0</td>\n",
       "      <td>51.3</td>\n",
       "    </tr>\n",
       "    <tr>\n",
       "      <th>1</th>\n",
       "      <td>156</td>\n",
       "      <td>광주</td>\n",
       "      <td>2021-06-02</td>\n",
       "      <td>23.4</td>\n",
       "      <td>0.0</td>\n",
       "      <td>61.0</td>\n",
       "    </tr>\n",
       "    <tr>\n",
       "      <th>2</th>\n",
       "      <td>156</td>\n",
       "      <td>광주</td>\n",
       "      <td>2021-06-03</td>\n",
       "      <td>19.8</td>\n",
       "      <td>22.7</td>\n",
       "      <td>92.6</td>\n",
       "    </tr>\n",
       "  </tbody>\n",
       "</table>\n",
       "</div>"
      ],
      "text/plain": [
       "    지점 지점명          일시  평균기온(°C)  일강수량(mm)  평균 상대습도(%)\n",
       "0  156  광주  2021-06-01      23.5       0.0        51.3\n",
       "1  156  광주  2021-06-02      23.4       0.0        61.0\n",
       "2  156  광주  2021-06-03      19.8      22.7        92.6"
      ]
     },
     "execution_count": 306,
     "metadata": {},
     "output_type": "execute_result"
    }
   ],
   "source": [
    "df1 = pd.read_csv(\"./data/weather.csv\")\n",
    "df1.head(3)"
   ]
  },
  {
   "cell_type": "code",
   "execution_count": 307,
   "metadata": {},
   "outputs": [],
   "source": [
    "# df.to_csv(\"df.csv\", encoding=\"utf-8-sig\")"
   ]
  },
  {
   "cell_type": "code",
   "execution_count": 308,
   "metadata": {},
   "outputs": [
    {
     "name": "stdout",
     "output_type": "stream",
     "text": [
      "(297, 31) (129, 6)\n"
     ]
    }
   ],
   "source": [
    "print(df_temp.shape, df1.shape)"
   ]
  },
  {
   "cell_type": "code",
   "execution_count": 309,
   "metadata": {},
   "outputs": [],
   "source": [
    "# df_temp.to_csv(\"df_temp.csv\", encoding=\"utf-8-sig\")"
   ]
  },
  {
   "cell_type": "code",
   "execution_count": 310,
   "metadata": {},
   "outputs": [],
   "source": [
    "# df_merge = pd.merge(df_temp, df1)\n",
    "# print(df_merge)"
   ]
  },
  {
   "cell_type": "code",
   "execution_count": 311,
   "metadata": {},
   "outputs": [
    {
     "data": {
      "text/html": [
       "<div>\n",
       "<style scoped>\n",
       "    .dataframe tbody tr th:only-of-type {\n",
       "        vertical-align: middle;\n",
       "    }\n",
       "\n",
       "    .dataframe tbody tr th {\n",
       "        vertical-align: top;\n",
       "    }\n",
       "\n",
       "    .dataframe thead th {\n",
       "        text-align: right;\n",
       "    }\n",
       "</style>\n",
       "<table border=\"1\" class=\"dataframe\">\n",
       "  <thead>\n",
       "    <tr style=\"text-align: right;\">\n",
       "      <th></th>\n",
       "      <th>ID</th>\n",
       "      <th>시설종류</th>\n",
       "      <th>실내/실외</th>\n",
       "      <th>종목</th>\n",
       "      <th>주소</th>\n",
       "      <th>이름</th>\n",
       "      <th>평점</th>\n",
       "      <th>투표횟수</th>\n",
       "    </tr>\n",
       "  </thead>\n",
       "  <tbody>\n",
       "    <tr>\n",
       "      <th>0</th>\n",
       "      <td>0</td>\n",
       "      <td>문화</td>\n",
       "      <td>실내</td>\n",
       "      <td>미술관</td>\n",
       "      <td>광주 동구 성촌길 6</td>\n",
       "      <td>드영미술관</td>\n",
       "      <td>3.0</td>\n",
       "      <td>1</td>\n",
       "    </tr>\n",
       "    <tr>\n",
       "      <th>1</th>\n",
       "      <td>1</td>\n",
       "      <td>문화</td>\n",
       "      <td>실내</td>\n",
       "      <td>미술관</td>\n",
       "      <td>광주 남구 제중로47번길 10</td>\n",
       "      <td>이이남 스튜디오</td>\n",
       "      <td>4.7</td>\n",
       "      <td>84</td>\n",
       "    </tr>\n",
       "    <tr>\n",
       "      <th>2</th>\n",
       "      <td>2</td>\n",
       "      <td>문화</td>\n",
       "      <td>실내</td>\n",
       "      <td>미술관</td>\n",
       "      <td>광주 북구 하서로 52</td>\n",
       "      <td>광주시립미술관</td>\n",
       "      <td>4.3</td>\n",
       "      <td>815</td>\n",
       "    </tr>\n",
       "  </tbody>\n",
       "</table>\n",
       "</div>"
      ],
      "text/plain": [
       "   ID 시설종류 실내/실외   종목                주소        이름   평점  투표횟수\n",
       "0   0   문화    실내  미술관       광주 동구 성촌길 6     드영미술관  3.0     1\n",
       "1   1   문화    실내  미술관  광주 남구 제중로47번길 10  이이남 스튜디오  4.7    84\n",
       "2   2   문화    실내  미술관      광주 북구 하서로 52   광주시립미술관  4.3   815"
      ]
     },
     "execution_count": 311,
     "metadata": {},
     "output_type": "execute_result"
    }
   ],
   "source": [
    "df3 = pd.read_csv('df.csv')\n",
    "\n",
    "df3.head(3)"
   ]
  },
  {
   "cell_type": "code",
   "execution_count": 312,
   "metadata": {},
   "outputs": [],
   "source": [
    "import pandas as pd\n",
    "import numpy as np\n",
    "import warnings; warnings.filterwarnings('ignore')"
   ]
  },
  {
   "cell_type": "code",
   "execution_count": 313,
   "metadata": {},
   "outputs": [
    {
     "data": {
      "text/html": [
       "<div>\n",
       "<style scoped>\n",
       "    .dataframe tbody tr th:only-of-type {\n",
       "        vertical-align: middle;\n",
       "    }\n",
       "\n",
       "    .dataframe tbody tr th {\n",
       "        vertical-align: top;\n",
       "    }\n",
       "\n",
       "    .dataframe thead th {\n",
       "        text-align: right;\n",
       "    }\n",
       "</style>\n",
       "<table border=\"1\" class=\"dataframe\">\n",
       "  <thead>\n",
       "    <tr style=\"text-align: right;\">\n",
       "      <th></th>\n",
       "      <th>0</th>\n",
       "      <th>1</th>\n",
       "    </tr>\n",
       "  </thead>\n",
       "  <tbody>\n",
       "    <tr>\n",
       "      <th>ID</th>\n",
       "      <td>0</td>\n",
       "      <td>1</td>\n",
       "    </tr>\n",
       "    <tr>\n",
       "      <th>시설종류</th>\n",
       "      <td>문화</td>\n",
       "      <td>문화</td>\n",
       "    </tr>\n",
       "    <tr>\n",
       "      <th>실내/실외</th>\n",
       "      <td>실내</td>\n",
       "      <td>실내</td>\n",
       "    </tr>\n",
       "    <tr>\n",
       "      <th>종목</th>\n",
       "      <td>미술관</td>\n",
       "      <td>미술관</td>\n",
       "    </tr>\n",
       "    <tr>\n",
       "      <th>주소</th>\n",
       "      <td>광주 동구 성촌길 6</td>\n",
       "      <td>광주 남구 제중로47번길 10</td>\n",
       "    </tr>\n",
       "    <tr>\n",
       "      <th>이름</th>\n",
       "      <td>드영미술관</td>\n",
       "      <td>이이남 스튜디오</td>\n",
       "    </tr>\n",
       "    <tr>\n",
       "      <th>평점</th>\n",
       "      <td>3.0</td>\n",
       "      <td>4.7</td>\n",
       "    </tr>\n",
       "    <tr>\n",
       "      <th>투표횟수</th>\n",
       "      <td>1</td>\n",
       "      <td>84</td>\n",
       "    </tr>\n",
       "  </tbody>\n",
       "</table>\n",
       "</div>"
      ],
      "text/plain": [
       "                 0                 1\n",
       "ID               0                 1\n",
       "시설종류            문화                문화\n",
       "실내/실외           실내                실내\n",
       "종목             미술관               미술관\n",
       "주소     광주 동구 성촌길 6  광주 남구 제중로47번길 10\n",
       "이름           드영미술관          이이남 스튜디오\n",
       "평점             3.0               4.7\n",
       "투표횟수             1                84"
      ]
     },
     "execution_count": 313,
     "metadata": {},
     "output_type": "execute_result"
    }
   ],
   "source": [
    "df3.shape\n",
    "df3.head(2).T"
   ]
  },
  {
   "cell_type": "code",
   "execution_count": 314,
   "metadata": {},
   "outputs": [
    {
     "data": {
      "text/html": [
       "<div>\n",
       "<style scoped>\n",
       "    .dataframe tbody tr th:only-of-type {\n",
       "        vertical-align: middle;\n",
       "    }\n",
       "\n",
       "    .dataframe tbody tr th {\n",
       "        vertical-align: top;\n",
       "    }\n",
       "\n",
       "    .dataframe thead th {\n",
       "        text-align: right;\n",
       "    }\n",
       "</style>\n",
       "<table border=\"1\" class=\"dataframe\">\n",
       "  <thead>\n",
       "    <tr style=\"text-align: right;\">\n",
       "      <th></th>\n",
       "      <th>0</th>\n",
       "    </tr>\n",
       "  </thead>\n",
       "  <tbody>\n",
       "    <tr>\n",
       "      <th>ID</th>\n",
       "      <td>0</td>\n",
       "    </tr>\n",
       "    <tr>\n",
       "      <th>이름</th>\n",
       "      <td>드영미술관</td>\n",
       "    </tr>\n",
       "    <tr>\n",
       "      <th>시설종류</th>\n",
       "      <td>문화</td>\n",
       "    </tr>\n",
       "    <tr>\n",
       "      <th>평점</th>\n",
       "      <td>3.0</td>\n",
       "    </tr>\n",
       "    <tr>\n",
       "      <th>투표횟수</th>\n",
       "      <td>1</td>\n",
       "    </tr>\n",
       "    <tr>\n",
       "      <th>실내/실외</th>\n",
       "      <td>실내</td>\n",
       "    </tr>\n",
       "    <tr>\n",
       "      <th>종목</th>\n",
       "      <td>미술관</td>\n",
       "    </tr>\n",
       "  </tbody>\n",
       "</table>\n",
       "</div>"
      ],
      "text/plain": [
       "           0\n",
       "ID         0\n",
       "이름     드영미술관\n",
       "시설종류      문화\n",
       "평점       3.0\n",
       "투표횟수       1\n",
       "실내/실외     실내\n",
       "종목       미술관"
      ]
     },
     "execution_count": 314,
     "metadata": {},
     "output_type": "execute_result"
    }
   ],
   "source": [
    "# id, 이름, 시설종류, 평점, 투표횟수, \n",
    "# 실내/실외, 종목\n",
    "df_test = df3[ ['ID','이름', '시설종류', '평점', '투표횟수','실내/실외', '종목'] ]\n",
    "df_test.head(1).T"
   ]
  },
  {
   "cell_type": "code",
   "execution_count": 315,
   "metadata": {},
   "outputs": [
    {
     "name": "stdout",
     "output_type": "stream",
     "text": [
      "<class 'pandas.core.frame.DataFrame'>\n",
      "RangeIndex: 199 entries, 0 to 198\n",
      "Data columns (total 7 columns):\n",
      " #   Column  Non-Null Count  Dtype  \n",
      "---  ------  --------------  -----  \n",
      " 0   ID      199 non-null    int64  \n",
      " 1   이름      199 non-null    object \n",
      " 2   시설종류    199 non-null    object \n",
      " 3   평점      199 non-null    float64\n",
      " 4   투표횟수    199 non-null    int64  \n",
      " 5   실내/실외   199 non-null    object \n",
      " 6   종목      199 non-null    object \n",
      "dtypes: float64(1), int64(2), object(4)\n",
      "memory usage: 11.0+ KB\n"
     ]
    }
   ],
   "source": [
    "df_test.info()"
   ]
  },
  {
   "cell_type": "code",
   "execution_count": 316,
   "metadata": {},
   "outputs": [],
   "source": [
    "# pd.set_option('max_colwidth', 200)\n",
    "# df[ ['시설종류', '종목'] ][:1]"
   ]
  },
  {
   "cell_type": "code",
   "execution_count": 317,
   "metadata": {},
   "outputs": [],
   "source": [
    "# # 문자열을 객체로 변환\n",
    "# # list [dict1, dict2]\n",
    "# from ast import literal_eval\n",
    "\n",
    "# literal_eval('[{\"ID\": 28, \"시설종류\": \"Action\"}]')"
   ]
  },
  {
   "cell_type": "code",
   "execution_count": 318,
   "metadata": {},
   "outputs": [],
   "source": [
    "# # literal_eval( df['genres'][:1][0] )\n",
    "# df_test['시설종류'] = df_test['시설종류'].apply(literal_eval)\n",
    "# df_test['종목'] = df_test['종목'].apply(literal_eval)\n",
    "# df_test[ ['시설종류', '종목'] ][:1]"
   ]
  },
  {
   "cell_type": "code",
   "execution_count": 319,
   "metadata": {},
   "outputs": [
    {
     "data": {
      "text/plain": [
       "(297, 26)"
      ]
     },
     "execution_count": 319,
     "metadata": {},
     "output_type": "execute_result"
    }
   ],
   "source": [
    "from sklearn.feature_extraction.text import CountVectorizer\n",
    "\n",
    "# CountVectorizer를 적용하기 위해 공백문자로 word 단위가 구분되는 문자열로 변환. \n",
    "# df_test['종목_정확도'] = df_test['종목'].apply(lambda x : (' ').join( x ))\n",
    "count_vect = CountVectorizer(min_df=0, ngram_range=(1, 1))\n",
    "genre_mat = count_vect.fit_transform( df['종목'] )\n",
    "genre_mat.shape"
   ]
  },
  {
   "cell_type": "code",
   "execution_count": 320,
   "metadata": {},
   "outputs": [
    {
     "data": {
      "text/plain": [
       "array([[0, 0, 0, 0, 0, 0, 0, 0, 0, 0, 0, 0, 0, 1, 0, 0, 0, 0, 0, 0, 0, 0,\n",
       "        0, 0, 0, 0]], dtype=int64)"
      ]
     },
     "execution_count": 320,
     "metadata": {},
     "output_type": "execute_result"
    }
   ],
   "source": [
    "# print( genre_mat[:1] )\n",
    "genre_mat[:1].toarray()"
   ]
  },
  {
   "cell_type": "code",
   "execution_count": 321,
   "metadata": {},
   "outputs": [
    {
     "data": {
      "text/plain": [
       "(297, 297)"
      ]
     },
     "execution_count": 321,
     "metadata": {},
     "output_type": "execute_result"
    }
   ],
   "source": [
    "# 코사인 유사도 계산계산\n",
    "# 반환된 코사인 유사도 행렬의 크기 및 앞 2개 데이터만 추출\n",
    "from sklearn.metrics.pairwise import cosine_similarity\n",
    "\n",
    "genre_sim = cosine_similarity(genre_mat, genre_mat)\n",
    "genre_sim.shape"
   ]
  },
  {
   "cell_type": "code",
   "execution_count": 322,
   "metadata": {},
   "outputs": [
    {
     "data": {
      "text/plain": [
       "array([[1., 0., 0., 0., 0., 0., 0., 0., 0., 0., 0., 0., 0., 0., 0., 0.,\n",
       "        0., 0., 0., 0., 0., 0., 0., 0., 0., 0., 0., 0., 0., 0., 0., 0.,\n",
       "        0., 0., 0., 0., 0., 0., 0., 0., 0., 0., 0., 0., 0., 0., 0., 0.,\n",
       "        0., 0., 0., 0., 0., 0., 0., 0., 0., 0., 0., 0., 0., 0., 0., 0.,\n",
       "        0., 0., 0., 0., 0., 1., 0., 0., 0., 0., 0., 1., 0., 0., 0., 0.,\n",
       "        0., 0., 0., 0., 0., 0., 0., 0., 0., 1., 0., 0., 0., 0., 0., 0.,\n",
       "        0., 0., 0., 0., 0., 0., 0., 0., 0., 0., 0., 0., 0., 0., 0., 0.,\n",
       "        0., 0., 0., 0., 0., 0., 0., 0., 0., 0., 0., 0., 0., 0., 0., 0.,\n",
       "        0., 0., 0., 0., 0., 0., 0., 0., 0., 0., 0., 0., 0., 0., 0., 0.,\n",
       "        0., 0., 0., 0., 0., 0., 0., 0., 0., 0., 0., 0., 0., 0., 0., 0.,\n",
       "        0., 0., 0., 0., 0., 0., 0., 0., 0., 0., 0., 0., 0., 0., 0., 0.,\n",
       "        0., 0., 0., 0., 0., 0., 0., 0., 0., 0., 0., 0., 0., 0., 0., 0.,\n",
       "        0., 0., 0., 0., 0., 0., 0., 0., 0., 0., 0., 0., 0., 0., 0., 0.,\n",
       "        0., 0., 0., 0., 0., 0., 0., 0., 0., 0., 0., 0., 0., 0., 0., 0.,\n",
       "        0., 0., 0., 0., 0., 0., 0., 0., 0., 0., 0., 0., 0., 0., 0., 0.,\n",
       "        0., 0., 0., 0., 0., 0., 0., 0., 0., 0., 0., 0., 0., 0., 0., 0.,\n",
       "        0., 0., 0., 0., 0., 0., 0., 0., 0., 0., 0., 0., 0., 0., 0., 0.,\n",
       "        0., 0., 0., 0., 0., 0., 0., 0., 0., 0., 0., 0., 0., 0., 0., 0.,\n",
       "        0., 0., 0., 0., 0., 0., 0., 0., 0.],\n",
       "       [0., 1., 0., 1., 1., 0., 0., 0., 0., 0., 0., 0., 0., 0., 0., 1.,\n",
       "        0., 1., 0., 0., 0., 0., 0., 0., 0., 0., 0., 0., 0., 0., 0., 0.,\n",
       "        0., 0., 0., 0., 0., 1., 0., 0., 0., 0., 0., 0., 0., 0., 0., 0.,\n",
       "        0., 0., 0., 0., 0., 0., 0., 1., 0., 0., 0., 0., 0., 0., 0., 1.,\n",
       "        0., 0., 0., 0., 0., 0., 0., 0., 0., 0., 0., 0., 0., 0., 0., 0.,\n",
       "        1., 0., 0., 1., 0., 0., 0., 0., 0., 0., 0., 0., 0., 0., 0., 0.,\n",
       "        0., 0., 0., 0., 0., 0., 0., 0., 0., 0., 0., 0., 0., 0., 0., 0.,\n",
       "        0., 0., 0., 0., 0., 0., 0., 0., 0., 0., 0., 0., 0., 0., 0., 0.,\n",
       "        0., 0., 0., 0., 0., 0., 0., 0., 0., 0., 0., 0., 0., 0., 0., 0.,\n",
       "        0., 0., 0., 0., 0., 0., 0., 0., 0., 0., 0., 0., 0., 0., 0., 0.,\n",
       "        0., 0., 0., 0., 0., 0., 0., 0., 0., 0., 0., 0., 0., 0., 0., 0.,\n",
       "        0., 0., 0., 0., 0., 0., 0., 0., 0., 0., 0., 0., 0., 0., 0., 0.,\n",
       "        0., 0., 0., 0., 0., 0., 0., 0., 0., 0., 0., 0., 0., 0., 0., 0.,\n",
       "        0., 0., 0., 0., 0., 0., 0., 0., 0., 0., 0., 0., 0., 0., 0., 0.,\n",
       "        0., 0., 0., 0., 0., 0., 0., 0., 0., 0., 0., 0., 0., 0., 0., 0.,\n",
       "        0., 0., 0., 0., 0., 0., 0., 0., 0., 0., 0., 0., 0., 0., 0., 0.,\n",
       "        0., 0., 0., 0., 0., 0., 0., 0., 0., 0., 0., 0., 0., 0., 0., 0.,\n",
       "        0., 0., 0., 0., 0., 0., 0., 0., 0., 0., 0., 0., 0., 0., 0., 0.,\n",
       "        0., 0., 0., 0., 0., 0., 0., 0., 0.]])"
      ]
     },
     "execution_count": 322,
     "metadata": {},
     "output_type": "execute_result"
    }
   ],
   "source": [
    "genre_sim[:2]"
   ]
  },
  {
   "cell_type": "code",
   "execution_count": 323,
   "metadata": {},
   "outputs": [
    {
     "data": {
      "text/plain": [
       "(297, 297)"
      ]
     },
     "execution_count": 323,
     "metadata": {},
     "output_type": "execute_result"
    }
   ],
   "source": [
    "# 유사도가 높은 순으로 정리된 genre_sim 객체의 비교 행 위치 인덱스 값\n",
    "# 값이 높은 순으로 정렬된 비교 대상 행의 유사도 값이 아니라\n",
    "# 비교 대상 행의 위치 인덱스임에 주의\n",
    "genre_sim_sorted_ind = genre_sim.argsort()[:, ::-1]\n",
    "genre_sim_sorted_ind.shape"
   ]
  },
  {
   "cell_type": "code",
   "execution_count": 324,
   "metadata": {},
   "outputs": [
    {
     "data": {
      "text/html": [
       "<div>\n",
       "<style scoped>\n",
       "    .dataframe tbody tr th:only-of-type {\n",
       "        vertical-align: middle;\n",
       "    }\n",
       "\n",
       "    .dataframe tbody tr th {\n",
       "        vertical-align: top;\n",
       "    }\n",
       "\n",
       "    .dataframe thead th {\n",
       "        text-align: right;\n",
       "    }\n",
       "</style>\n",
       "<table border=\"1\" class=\"dataframe\">\n",
       "  <thead>\n",
       "    <tr style=\"text-align: right;\">\n",
       "      <th></th>\n",
       "      <th>이름</th>\n",
       "      <th>평점</th>\n",
       "      <th>투표횟수</th>\n",
       "    </tr>\n",
       "  </thead>\n",
       "  <tbody>\n",
       "    <tr>\n",
       "      <th>61</th>\n",
       "      <td>약사암</td>\n",
       "      <td>5.0</td>\n",
       "      <td>1</td>\n",
       "    </tr>\n",
       "    <tr>\n",
       "      <th>26</th>\n",
       "      <td>백범기념관</td>\n",
       "      <td>5.0</td>\n",
       "      <td>3</td>\n",
       "    </tr>\n",
       "    <tr>\n",
       "      <th>120</th>\n",
       "      <td>테스팅노트</td>\n",
       "      <td>4.9</td>\n",
       "      <td>11</td>\n",
       "    </tr>\n",
       "    <tr>\n",
       "      <th>138</th>\n",
       "      <td>100족발본점</td>\n",
       "      <td>4.8</td>\n",
       "      <td>187</td>\n",
       "    </tr>\n",
       "    <tr>\n",
       "      <th>1</th>\n",
       "      <td>이이남 스튜디오</td>\n",
       "      <td>4.7</td>\n",
       "      <td>84</td>\n",
       "    </tr>\n",
       "    <tr>\n",
       "      <th>...</th>\n",
       "      <td>...</td>\n",
       "      <td>...</td>\n",
       "      <td>...</td>\n",
       "    </tr>\n",
       "    <tr>\n",
       "      <th>101</th>\n",
       "      <td>다과만들기 다담</td>\n",
       "      <td>0.0</td>\n",
       "      <td>0</td>\n",
       "    </tr>\n",
       "    <tr>\n",
       "      <th>13</th>\n",
       "      <td>유ㆍ스퀘어문화관 금호갤러리</td>\n",
       "      <td>0.0</td>\n",
       "      <td>0</td>\n",
       "    </tr>\n",
       "    <tr>\n",
       "      <th>28</th>\n",
       "      <td>전남대학교 박물관</td>\n",
       "      <td>0.0</td>\n",
       "      <td>0</td>\n",
       "    </tr>\n",
       "    <tr>\n",
       "      <th>142</th>\n",
       "      <td>광후장어</td>\n",
       "      <td>0.0</td>\n",
       "      <td>0</td>\n",
       "    </tr>\n",
       "    <tr>\n",
       "      <th>24</th>\n",
       "      <td>광주교육대학교 교육박물관</td>\n",
       "      <td>0.0</td>\n",
       "      <td>0</td>\n",
       "    </tr>\n",
       "  </tbody>\n",
       "</table>\n",
       "<p>199 rows × 3 columns</p>\n",
       "</div>"
      ],
      "text/plain": [
       "                 이름   평점  투표횟수\n",
       "61              약사암  5.0     1\n",
       "26            백범기념관  5.0     3\n",
       "120           테스팅노트  4.9    11\n",
       "138         100족발본점  4.8   187\n",
       "1          이이남 스튜디오  4.7    84\n",
       "..              ...  ...   ...\n",
       "101        다과만들기 다담  0.0     0\n",
       "13   유ㆍ스퀘어문화관 금호갤러리  0.0     0\n",
       "28        전남대학교 박물관  0.0     0\n",
       "142            광후장어  0.0     0\n",
       "24    광주교육대학교 교육박물관  0.0     0\n",
       "\n",
       "[199 rows x 3 columns]"
      ]
     },
     "execution_count": 324,
     "metadata": {},
     "output_type": "execute_result"
    }
   ],
   "source": [
    "df_test[['이름', '평점', '투표횟수']].sort_values(\n",
    "    '평점', ascending=False)"
   ]
  },
  {
   "cell_type": "code",
   "execution_count": 325,
   "metadata": {},
   "outputs": [
    {
     "data": {
      "text/plain": [
       "(3.7306532663316587, 141.0)"
      ]
     },
     "execution_count": 325,
     "metadata": {},
     "output_type": "execute_result"
    }
   ],
   "source": [
    "C = df_test['평점'].mean()\n",
    "m = df_test['투표횟수'].quantile(0.6)\n",
    "C, m"
   ]
  },
  {
   "cell_type": "code",
   "execution_count": 326,
   "metadata": {},
   "outputs": [],
   "source": [
    "# 기존 평점을 가중 평점으로 변경하는 함수\n",
    "def weighted_vote_average(record):\n",
    "  v = record['투표횟수']\n",
    "  R = record['평점']\n",
    "  # (예정)날씨 관련 수식을 추가 => 실내외 구분시 활용\n",
    "  return ( ( (v/(v+m)) * R ) + ( (m/(v+m)) * C ) )\n",
    "\n",
    "df_test['추천점수'] = df_test.apply(weighted_vote_average, axis=1)"
   ]
  },
  {
   "cell_type": "code",
   "execution_count": 327,
   "metadata": {},
   "outputs": [
    {
     "data": {
      "text/html": [
       "<div>\n",
       "<style scoped>\n",
       "    .dataframe tbody tr th:only-of-type {\n",
       "        vertical-align: middle;\n",
       "    }\n",
       "\n",
       "    .dataframe tbody tr th {\n",
       "        vertical-align: top;\n",
       "    }\n",
       "\n",
       "    .dataframe thead th {\n",
       "        text-align: right;\n",
       "    }\n",
       "</style>\n",
       "<table border=\"1\" class=\"dataframe\">\n",
       "  <thead>\n",
       "    <tr style=\"text-align: right;\">\n",
       "      <th></th>\n",
       "      <th>이름</th>\n",
       "      <th>평점</th>\n",
       "      <th>투표횟수</th>\n",
       "      <th>추천점수</th>\n",
       "    </tr>\n",
       "  </thead>\n",
       "  <tbody>\n",
       "    <tr>\n",
       "      <th>52</th>\n",
       "      <td>5·18민주화운동기록관</td>\n",
       "      <td>4.6</td>\n",
       "      <td>636</td>\n",
       "      <td>4.442242</td>\n",
       "    </tr>\n",
       "    <tr>\n",
       "      <th>184</th>\n",
       "      <td>쌍암공원</td>\n",
       "      <td>4.5</td>\n",
       "      <td>1119</td>\n",
       "      <td>4.413906</td>\n",
       "    </tr>\n",
       "    <tr>\n",
       "      <th>192</th>\n",
       "      <td>무등산 국립공원</td>\n",
       "      <td>4.5</td>\n",
       "      <td>1076</td>\n",
       "      <td>4.410865</td>\n",
       "    </tr>\n",
       "    <tr>\n",
       "      <th>55</th>\n",
       "      <td>5·18민주광장</td>\n",
       "      <td>4.6</td>\n",
       "      <td>488</td>\n",
       "      <td>4.405123</td>\n",
       "    </tr>\n",
       "    <tr>\n",
       "      <th>191</th>\n",
       "      <td>중외공원</td>\n",
       "      <td>4.5</td>\n",
       "      <td>640</td>\n",
       "      <td>4.361104</td>\n",
       "    </tr>\n",
       "    <tr>\n",
       "      <th>...</th>\n",
       "      <td>...</td>\n",
       "      <td>...</td>\n",
       "      <td>...</td>\n",
       "      <td>...</td>\n",
       "    </tr>\n",
       "    <tr>\n",
       "      <th>116</th>\n",
       "      <td>조선옥</td>\n",
       "      <td>3.5</td>\n",
       "      <td>136</td>\n",
       "      <td>3.617408</td>\n",
       "    </tr>\n",
       "    <tr>\n",
       "      <th>165</th>\n",
       "      <td>행랑채</td>\n",
       "      <td>3.5</td>\n",
       "      <td>189</td>\n",
       "      <td>3.598552</td>\n",
       "    </tr>\n",
       "    <tr>\n",
       "      <th>107</th>\n",
       "      <td>금수저은수저</td>\n",
       "      <td>3.5</td>\n",
       "      <td>360</td>\n",
       "      <td>3.564914</td>\n",
       "    </tr>\n",
       "    <tr>\n",
       "      <th>113</th>\n",
       "      <td>영빈관</td>\n",
       "      <td>3.4</td>\n",
       "      <td>143</td>\n",
       "      <td>3.564162</td>\n",
       "    </tr>\n",
       "    <tr>\n",
       "      <th>123</th>\n",
       "      <td>현완단겸 상추튀김</td>\n",
       "      <td>3.3</td>\n",
       "      <td>266</td>\n",
       "      <td>3.449194</td>\n",
       "    </tr>\n",
       "  </tbody>\n",
       "</table>\n",
       "<p>199 rows × 4 columns</p>\n",
       "</div>"
      ],
      "text/plain": [
       "               이름   평점  투표횟수      추천점수\n",
       "52   5·18민주화운동기록관  4.6   636  4.442242\n",
       "184          쌍암공원  4.5  1119  4.413906\n",
       "192      무등산 국립공원  4.5  1076  4.410865\n",
       "55       5·18민주광장  4.6   488  4.405123\n",
       "191          중외공원  4.5   640  4.361104\n",
       "..            ...  ...   ...       ...\n",
       "116           조선옥  3.5   136  3.617408\n",
       "165           행랑채  3.5   189  3.598552\n",
       "107        금수저은수저  3.5   360  3.564914\n",
       "113           영빈관  3.4   143  3.564162\n",
       "123     현완단겸 상추튀김  3.3   266  3.449194\n",
       "\n",
       "[199 rows x 4 columns]"
      ]
     },
     "execution_count": 327,
     "metadata": {},
     "output_type": "execute_result"
    }
   ],
   "source": [
    "# 새롭게 부여된 가중치 평점이 높은 순으로 상위 10개의 시설\n",
    "df_test[['이름', '평점', '투표횟수', '추천점수']].sort_values(\n",
    "    '추천점수', ascending=False)"
   ]
  },
  {
   "cell_type": "code",
   "execution_count": 332,
   "metadata": {},
   "outputs": [
    {
     "data": {
      "text/html": [
       "<div>\n",
       "<style scoped>\n",
       "    .dataframe tbody tr th:only-of-type {\n",
       "        vertical-align: middle;\n",
       "    }\n",
       "\n",
       "    .dataframe tbody tr th {\n",
       "        vertical-align: top;\n",
       "    }\n",
       "\n",
       "    .dataframe thead th {\n",
       "        text-align: right;\n",
       "    }\n",
       "</style>\n",
       "<table border=\"1\" class=\"dataframe\">\n",
       "  <thead>\n",
       "    <tr style=\"text-align: right;\">\n",
       "      <th></th>\n",
       "      <th>이름</th>\n",
       "      <th>종목</th>\n",
       "      <th>실내/실외</th>\n",
       "      <th>평점</th>\n",
       "      <th>투표횟수</th>\n",
       "      <th>추천점수</th>\n",
       "    </tr>\n",
       "  </thead>\n",
       "  <tbody>\n",
       "    <tr>\n",
       "      <th>99</th>\n",
       "      <td>국립광주과학관</td>\n",
       "      <td>체험</td>\n",
       "      <td>실내</td>\n",
       "      <td>4.4</td>\n",
       "      <td>1644</td>\n",
       "      <td>4.347127</td>\n",
       "    </tr>\n",
       "    <tr>\n",
       "      <th>43</th>\n",
       "      <td>월봉서원 체험</td>\n",
       "      <td>전통문화</td>\n",
       "      <td>실내</td>\n",
       "      <td>4.5</td>\n",
       "      <td>117</td>\n",
       "      <td>4.079543</td>\n",
       "    </tr>\n",
       "    <tr>\n",
       "      <th>31</th>\n",
       "      <td>홀로그램 극장</td>\n",
       "      <td>공연장</td>\n",
       "      <td>실내</td>\n",
       "      <td>4.3</td>\n",
       "      <td>213</td>\n",
       "      <td>4.073226</td>\n",
       "    </tr>\n",
       "    <tr>\n",
       "      <th>90</th>\n",
       "      <td>무등산 주상절리대</td>\n",
       "      <td>문화</td>\n",
       "      <td>실외</td>\n",
       "      <td>4.5</td>\n",
       "      <td>88</td>\n",
       "      <td>4.026297</td>\n",
       "    </tr>\n",
       "    <tr>\n",
       "      <th>108</th>\n",
       "      <td>남가정</td>\n",
       "      <td>맛집</td>\n",
       "      <td>실내</td>\n",
       "      <td>4.2</td>\n",
       "      <td>144</td>\n",
       "      <td>3.967797</td>\n",
       "    </tr>\n",
       "  </tbody>\n",
       "</table>\n",
       "</div>"
      ],
      "text/plain": [
       "            이름    종목 실내/실외   평점  투표횟수      추천점수\n",
       "99     국립광주과학관    체험    실내  4.4  1644  4.347127\n",
       "43     월봉서원 체험  전통문화    실내  4.5   117  4.079543\n",
       "31     홀로그램 극장   공연장    실내  4.3   213  4.073226\n",
       "90   무등산 주상절리대    문화    실외  4.5    88  4.026297\n",
       "108        남가정    맛집    실내  4.2   144  3.967797"
      ]
     },
     "execution_count": 332,
     "metadata": {},
     "output_type": "execute_result"
    }
   ],
   "source": [
    "# 새롭게 정의된 평점 기준에 따라 기존 find_sim_experience 함수를 변경\n",
    "def find_sim_experience(df_test, sorted_ind, title_name, top_n=5):\n",
    "  title_exp = df_test[df_test['이름'] == title_name]\n",
    "  title_index = title_exp.index.values\n",
    "\n",
    "  sim_index = sorted_ind[title_index, :top_n*3]\n",
    "  sim_index = sim_index.reshape(-1)\n",
    "\n",
    "  sim_index = sim_index[sim_index != title_index]\n",
    "\n",
    "  return df_test.iloc[sim_index].sort_values(\n",
    "    '추천점수', ascending=False)[:top_n]\n",
    "\n",
    "\n",
    "sim_exp = find_sim_experience(df_test, genre_sim_sorted_ind, '일곡갤러리')\n",
    "sim_exp[['이름', '종목', '실내/실외', '평점', '투표횟수', '추천점수']]"
   ]
  },
  {
   "cell_type": "code",
   "execution_count": 329,
   "metadata": {},
   "outputs": [],
   "source": [
    "# # 새롭게 정의된 평점 기준에 따라 기존 find_sim_experience 함수를 변경\n",
    "# def find_sim_experience(df_test, sorted_ind, title_name, top_n=5):\n",
    "#   title_exp = df_test[df_test['이름'] == title_name]\n",
    "#   title_index = title_exp.index.values\n",
    "\n",
    "#   sim_index = sorted_ind[title_index, :top_n*3]\n",
    "#   sim_index = sim_index.reshape(-1)\n",
    "\n",
    "#   sim_index = sim_index[sim_index != title_index]\n",
    "\n",
    "#   return df_test.iloc[sim_index].sort_values(\n",
    "#     '추천점수', ascending=False)[:top_n]\n",
    "\n",
    "# name = str(input())\n",
    "# sim_exp = find_sim_experience(df_test, genre_sim_sorted_ind, name)\n",
    "# sim_exp[['이름', '종목', '실내/실외', '평점', '투표횟수', '추천점수']]"
   ]
  }
 ],
 "metadata": {
  "interpreter": {
   "hash": "5327134b4d9c90ef246a62c4b08a4aaf90b0cea1e5a2b066b88c3413ddfa8b04"
  },
  "kernelspec": {
   "display_name": "Python 3.8.10 64-bit ('dacon': conda)",
   "name": "python3"
  },
  "language_info": {
   "codemirror_mode": {
    "name": "ipython",
    "version": 3
   },
   "file_extension": ".py",
   "mimetype": "text/x-python",
   "name": "python",
   "nbconvert_exporter": "python",
   "pygments_lexer": "ipython3",
   "version": "3.8.10"
  },
  "orig_nbformat": 4
 },
 "nbformat": 4,
 "nbformat_minor": 2
}
