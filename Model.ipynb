{
 "cells": [
  {
   "cell_type": "code",
   "execution_count": 43,
   "metadata": {},
   "outputs": [],
   "source": [
    "# Model 분석"
   ]
  },
  {
   "cell_type": "code",
   "execution_count": 44,
   "metadata": {},
   "outputs": [
    {
     "name": "stdout",
     "output_type": "stream",
     "text": [
      "<class 'pandas.core.frame.DataFrame'>\n",
      "RangeIndex: 297 entries, 0 to 296\n",
      "Data columns (total 5 columns):\n",
      " #   Column  Non-Null Count  Dtype \n",
      "---  ------  --------------  ----- \n",
      " 0   시설종류    297 non-null    object\n",
      " 1   실내/실외   297 non-null    object\n",
      " 2   종목      297 non-null    object\n",
      " 3   주소      297 non-null    object\n",
      " 4   이름      297 non-null    object\n",
      "dtypes: object(5)\n",
      "memory usage: 11.7+ KB\n"
     ]
    }
   ],
   "source": [
    "import numpy as np\n",
    "import pandas as pd\n",
    "\n",
    "\n",
    "df = pd.read_csv(\"./data/gwangju.csv\")\n",
    "df.info()"
   ]
  },
  {
   "cell_type": "code",
   "execution_count": 45,
   "metadata": {},
   "outputs": [
    {
     "data": {
      "text/html": [
       "<div>\n",
       "<style scoped>\n",
       "    .dataframe tbody tr th:only-of-type {\n",
       "        vertical-align: middle;\n",
       "    }\n",
       "\n",
       "    .dataframe tbody tr th {\n",
       "        vertical-align: top;\n",
       "    }\n",
       "\n",
       "    .dataframe thead th {\n",
       "        text-align: right;\n",
       "    }\n",
       "</style>\n",
       "<table border=\"1\" class=\"dataframe\">\n",
       "  <thead>\n",
       "    <tr style=\"text-align: right;\">\n",
       "      <th></th>\n",
       "      <th>시설종류</th>\n",
       "      <th>실내/실외</th>\n",
       "      <th>종목</th>\n",
       "      <th>주소</th>\n",
       "      <th>이름</th>\n",
       "    </tr>\n",
       "  </thead>\n",
       "  <tbody>\n",
       "    <tr>\n",
       "      <th>0</th>\n",
       "      <td>스포츠</td>\n",
       "      <td>실외</td>\n",
       "      <td>운동장</td>\n",
       "      <td>광주 북구 매곡동 238</td>\n",
       "      <td>전라남도공무원교육원 운동장</td>\n",
       "    </tr>\n",
       "    <tr>\n",
       "      <th>1</th>\n",
       "      <td>스포츠</td>\n",
       "      <td>실외</td>\n",
       "      <td>농구장</td>\n",
       "      <td>광주 북구 삼각동 792-1</td>\n",
       "      <td>가작어린이공원 농구장</td>\n",
       "    </tr>\n",
       "    <tr>\n",
       "      <th>2</th>\n",
       "      <td>스포츠</td>\n",
       "      <td>실외</td>\n",
       "      <td>풋살장</td>\n",
       "      <td>광주광역시 북구 군왕로274번길</td>\n",
       "      <td>각화1교 하부 생활체육공간</td>\n",
       "    </tr>\n",
       "  </tbody>\n",
       "</table>\n",
       "</div>"
      ],
      "text/plain": [
       "  시설종류 실내/실외   종목                 주소              이름\n",
       "0  스포츠    실외  운동장      광주 북구 매곡동 238  전라남도공무원교육원 운동장\n",
       "1  스포츠    실외  농구장    광주 북구 삼각동 792-1     가작어린이공원 농구장\n",
       "2  스포츠    실외  풋살장  광주광역시 북구 군왕로274번길  각화1교 하부 생활체육공간"
      ]
     },
     "execution_count": 45,
     "metadata": {},
     "output_type": "execute_result"
    }
   ],
   "source": [
    "df.head(3)"
   ]
  },
  {
   "cell_type": "code",
   "execution_count": 46,
   "metadata": {},
   "outputs": [],
   "source": [
    "df_temp = pd.get_dummies(df[['시설종류','실내/실외','종목']])"
   ]
  },
  {
   "cell_type": "code",
   "execution_count": 47,
   "metadata": {},
   "outputs": [
    {
     "data": {
      "text/html": [
       "<div>\n",
       "<style scoped>\n",
       "    .dataframe tbody tr th:only-of-type {\n",
       "        vertical-align: middle;\n",
       "    }\n",
       "\n",
       "    .dataframe tbody tr th {\n",
       "        vertical-align: top;\n",
       "    }\n",
       "\n",
       "    .dataframe thead th {\n",
       "        text-align: right;\n",
       "    }\n",
       "</style>\n",
       "<table border=\"1\" class=\"dataframe\">\n",
       "  <thead>\n",
       "    <tr style=\"text-align: right;\">\n",
       "      <th></th>\n",
       "      <th>시설종류_관광</th>\n",
       "      <th>시설종류_문화</th>\n",
       "      <th>시설종류_스포츠</th>\n",
       "      <th>실내/실외_실내</th>\n",
       "      <th>실내/실외_실외</th>\n",
       "      <th>종목_5.18운동</th>\n",
       "      <th>종목_건축</th>\n",
       "      <th>종목_게이트볼장</th>\n",
       "      <th>종목_공연장</th>\n",
       "      <th>종목_농구장</th>\n",
       "      <th>...</th>\n",
       "      <th>종목_족구장</th>\n",
       "      <th>종목_종교</th>\n",
       "      <th>종목_체육관</th>\n",
       "      <th>종목_체험</th>\n",
       "      <th>종목_축구장</th>\n",
       "      <th>종목_축제</th>\n",
       "      <th>종목_캠핑장</th>\n",
       "      <th>종목_탁구장</th>\n",
       "      <th>종목_테니스장</th>\n",
       "      <th>종목_풋살장</th>\n",
       "    </tr>\n",
       "  </thead>\n",
       "  <tbody>\n",
       "    <tr>\n",
       "      <th>0</th>\n",
       "      <td>0</td>\n",
       "      <td>0</td>\n",
       "      <td>1</td>\n",
       "      <td>0</td>\n",
       "      <td>1</td>\n",
       "      <td>0</td>\n",
       "      <td>0</td>\n",
       "      <td>0</td>\n",
       "      <td>0</td>\n",
       "      <td>0</td>\n",
       "      <td>...</td>\n",
       "      <td>0</td>\n",
       "      <td>0</td>\n",
       "      <td>0</td>\n",
       "      <td>0</td>\n",
       "      <td>0</td>\n",
       "      <td>0</td>\n",
       "      <td>0</td>\n",
       "      <td>0</td>\n",
       "      <td>0</td>\n",
       "      <td>0</td>\n",
       "    </tr>\n",
       "    <tr>\n",
       "      <th>1</th>\n",
       "      <td>0</td>\n",
       "      <td>0</td>\n",
       "      <td>1</td>\n",
       "      <td>0</td>\n",
       "      <td>1</td>\n",
       "      <td>0</td>\n",
       "      <td>0</td>\n",
       "      <td>0</td>\n",
       "      <td>0</td>\n",
       "      <td>1</td>\n",
       "      <td>...</td>\n",
       "      <td>0</td>\n",
       "      <td>0</td>\n",
       "      <td>0</td>\n",
       "      <td>0</td>\n",
       "      <td>0</td>\n",
       "      <td>0</td>\n",
       "      <td>0</td>\n",
       "      <td>0</td>\n",
       "      <td>0</td>\n",
       "      <td>0</td>\n",
       "    </tr>\n",
       "    <tr>\n",
       "      <th>2</th>\n",
       "      <td>0</td>\n",
       "      <td>0</td>\n",
       "      <td>1</td>\n",
       "      <td>0</td>\n",
       "      <td>1</td>\n",
       "      <td>0</td>\n",
       "      <td>0</td>\n",
       "      <td>0</td>\n",
       "      <td>0</td>\n",
       "      <td>0</td>\n",
       "      <td>...</td>\n",
       "      <td>0</td>\n",
       "      <td>0</td>\n",
       "      <td>0</td>\n",
       "      <td>0</td>\n",
       "      <td>0</td>\n",
       "      <td>0</td>\n",
       "      <td>0</td>\n",
       "      <td>0</td>\n",
       "      <td>0</td>\n",
       "      <td>1</td>\n",
       "    </tr>\n",
       "  </tbody>\n",
       "</table>\n",
       "<p>3 rows × 31 columns</p>\n",
       "</div>"
      ],
      "text/plain": [
       "   시설종류_관광  시설종류_문화  시설종류_스포츠  실내/실외_실내  실내/실외_실외  종목_5.18운동  종목_건축  종목_게이트볼장  \\\n",
       "0        0        0         1         0         1          0      0         0   \n",
       "1        0        0         1         0         1          0      0         0   \n",
       "2        0        0         1         0         1          0      0         0   \n",
       "\n",
       "   종목_공연장  종목_농구장  ...  종목_족구장  종목_종교  종목_체육관  종목_체험  종목_축구장  종목_축제  종목_캠핑장  \\\n",
       "0       0       0  ...       0      0       0      0       0      0       0   \n",
       "1       0       1  ...       0      0       0      0       0      0       0   \n",
       "2       0       0  ...       0      0       0      0       0      0       0   \n",
       "\n",
       "   종목_탁구장  종목_테니스장  종목_풋살장  \n",
       "0       0        0       0  \n",
       "1       0        0       0  \n",
       "2       0        0       1  \n",
       "\n",
       "[3 rows x 31 columns]"
      ]
     },
     "execution_count": 47,
     "metadata": {},
     "output_type": "execute_result"
    }
   ],
   "source": [
    "df_temp.head(3)"
   ]
  },
  {
   "cell_type": "code",
   "execution_count": 48,
   "metadata": {},
   "outputs": [
    {
     "data": {
      "text/html": [
       "<div>\n",
       "<style scoped>\n",
       "    .dataframe tbody tr th:only-of-type {\n",
       "        vertical-align: middle;\n",
       "    }\n",
       "\n",
       "    .dataframe tbody tr th {\n",
       "        vertical-align: top;\n",
       "    }\n",
       "\n",
       "    .dataframe thead th {\n",
       "        text-align: right;\n",
       "    }\n",
       "</style>\n",
       "<table border=\"1\" class=\"dataframe\">\n",
       "  <thead>\n",
       "    <tr style=\"text-align: right;\">\n",
       "      <th></th>\n",
       "      <th>지점</th>\n",
       "      <th>지점명</th>\n",
       "      <th>일시</th>\n",
       "      <th>평균기온(°C)</th>\n",
       "      <th>일강수량(mm)</th>\n",
       "      <th>평균 상대습도(%)</th>\n",
       "    </tr>\n",
       "  </thead>\n",
       "  <tbody>\n",
       "    <tr>\n",
       "      <th>0</th>\n",
       "      <td>156</td>\n",
       "      <td>광주</td>\n",
       "      <td>2021-06-01</td>\n",
       "      <td>23.5</td>\n",
       "      <td>0.0</td>\n",
       "      <td>51.3</td>\n",
       "    </tr>\n",
       "    <tr>\n",
       "      <th>1</th>\n",
       "      <td>156</td>\n",
       "      <td>광주</td>\n",
       "      <td>2021-06-02</td>\n",
       "      <td>23.4</td>\n",
       "      <td>0.0</td>\n",
       "      <td>61.0</td>\n",
       "    </tr>\n",
       "    <tr>\n",
       "      <th>2</th>\n",
       "      <td>156</td>\n",
       "      <td>광주</td>\n",
       "      <td>2021-06-03</td>\n",
       "      <td>19.8</td>\n",
       "      <td>22.7</td>\n",
       "      <td>92.6</td>\n",
       "    </tr>\n",
       "  </tbody>\n",
       "</table>\n",
       "</div>"
      ],
      "text/plain": [
       "    지점 지점명          일시  평균기온(°C)  일강수량(mm)  평균 상대습도(%)\n",
       "0  156  광주  2021-06-01      23.5       0.0        51.3\n",
       "1  156  광주  2021-06-02      23.4       0.0        61.0\n",
       "2  156  광주  2021-06-03      19.8      22.7        92.6"
      ]
     },
     "execution_count": 48,
     "metadata": {},
     "output_type": "execute_result"
    }
   ],
   "source": [
    "df1 = pd.read_csv(\"./data/weather.csv\")\n",
    "df1.head(3)"
   ]
  },
  {
   "cell_type": "code",
   "execution_count": 49,
   "metadata": {},
   "outputs": [],
   "source": [
    "# df.to_csv(\"df.csv\", encoding=\"utf-8-sig\")"
   ]
  },
  {
   "cell_type": "code",
   "execution_count": 50,
   "metadata": {},
   "outputs": [
    {
     "name": "stdout",
     "output_type": "stream",
     "text": [
      "(297, 31) (129, 6)\n"
     ]
    }
   ],
   "source": [
    "print(df_temp.shape, df1.shape)"
   ]
  },
  {
   "cell_type": "code",
   "execution_count": 51,
   "metadata": {},
   "outputs": [],
   "source": [
    "# df_temp.to_csv(\"df_temp.csv\", encoding=\"utf-8-sig\")"
   ]
  },
  {
   "cell_type": "code",
   "execution_count": 52,
   "metadata": {},
   "outputs": [],
   "source": [
    "# df_merge = pd.merge(df_temp, df1)\n",
    "# print(df_merge)"
   ]
  },
  {
   "cell_type": "code",
   "execution_count": 53,
   "metadata": {},
   "outputs": [
    {
     "data": {
      "text/html": [
       "<div>\n",
       "<style scoped>\n",
       "    .dataframe tbody tr th:only-of-type {\n",
       "        vertical-align: middle;\n",
       "    }\n",
       "\n",
       "    .dataframe tbody tr th {\n",
       "        vertical-align: top;\n",
       "    }\n",
       "\n",
       "    .dataframe thead th {\n",
       "        text-align: right;\n",
       "    }\n",
       "</style>\n",
       "<table border=\"1\" class=\"dataframe\">\n",
       "  <thead>\n",
       "    <tr style=\"text-align: right;\">\n",
       "      <th></th>\n",
       "      <th>ID</th>\n",
       "      <th>시설종류</th>\n",
       "      <th>실내/실외</th>\n",
       "      <th>종목</th>\n",
       "      <th>주소</th>\n",
       "      <th>이름</th>\n",
       "      <th>평점</th>\n",
       "      <th>투표횟수</th>\n",
       "    </tr>\n",
       "  </thead>\n",
       "  <tbody>\n",
       "    <tr>\n",
       "      <th>0</th>\n",
       "      <td>0</td>\n",
       "      <td>스포츠</td>\n",
       "      <td>실외</td>\n",
       "      <td>운동장</td>\n",
       "      <td>광주 북구 매곡동 238</td>\n",
       "      <td>전라남도공무원교육원 운동장</td>\n",
       "      <td>8.27</td>\n",
       "      <td>258</td>\n",
       "    </tr>\n",
       "    <tr>\n",
       "      <th>1</th>\n",
       "      <td>1</td>\n",
       "      <td>스포츠</td>\n",
       "      <td>실외</td>\n",
       "      <td>농구장</td>\n",
       "      <td>광주 북구 삼각동 792-1</td>\n",
       "      <td>가작어린이공원 농구장</td>\n",
       "      <td>5.21</td>\n",
       "      <td>975</td>\n",
       "    </tr>\n",
       "    <tr>\n",
       "      <th>2</th>\n",
       "      <td>2</td>\n",
       "      <td>스포츠</td>\n",
       "      <td>실외</td>\n",
       "      <td>풋살장</td>\n",
       "      <td>광주광역시 북구 군왕로274번길</td>\n",
       "      <td>각화1교 하부 생활체육공간</td>\n",
       "      <td>8.33</td>\n",
       "      <td>663</td>\n",
       "    </tr>\n",
       "  </tbody>\n",
       "</table>\n",
       "</div>"
      ],
      "text/plain": [
       "   ID 시설종류 실내/실외   종목                 주소              이름    평점  투표횟수\n",
       "0   0  스포츠    실외  운동장      광주 북구 매곡동 238  전라남도공무원교육원 운동장  8.27   258\n",
       "1   1  스포츠    실외  농구장    광주 북구 삼각동 792-1     가작어린이공원 농구장  5.21   975\n",
       "2   2  스포츠    실외  풋살장  광주광역시 북구 군왕로274번길  각화1교 하부 생활체육공간  8.33   663"
      ]
     },
     "execution_count": 53,
     "metadata": {},
     "output_type": "execute_result"
    }
   ],
   "source": [
    "df3 = pd.read_csv('df.csv')\n",
    "\n",
    "df3.head(3)"
   ]
  },
  {
   "cell_type": "code",
   "execution_count": 54,
   "metadata": {},
   "outputs": [],
   "source": [
    "import pandas as pd\n",
    "import numpy as np\n",
    "import warnings; warnings.filterwarnings('ignore')"
   ]
  },
  {
   "cell_type": "code",
   "execution_count": 55,
   "metadata": {},
   "outputs": [
    {
     "data": {
      "text/html": [
       "<div>\n",
       "<style scoped>\n",
       "    .dataframe tbody tr th:only-of-type {\n",
       "        vertical-align: middle;\n",
       "    }\n",
       "\n",
       "    .dataframe tbody tr th {\n",
       "        vertical-align: top;\n",
       "    }\n",
       "\n",
       "    .dataframe thead th {\n",
       "        text-align: right;\n",
       "    }\n",
       "</style>\n",
       "<table border=\"1\" class=\"dataframe\">\n",
       "  <thead>\n",
       "    <tr style=\"text-align: right;\">\n",
       "      <th></th>\n",
       "      <th>0</th>\n",
       "      <th>1</th>\n",
       "    </tr>\n",
       "  </thead>\n",
       "  <tbody>\n",
       "    <tr>\n",
       "      <th>ID</th>\n",
       "      <td>0</td>\n",
       "      <td>1</td>\n",
       "    </tr>\n",
       "    <tr>\n",
       "      <th>시설종류</th>\n",
       "      <td>스포츠</td>\n",
       "      <td>스포츠</td>\n",
       "    </tr>\n",
       "    <tr>\n",
       "      <th>실내/실외</th>\n",
       "      <td>실외</td>\n",
       "      <td>실외</td>\n",
       "    </tr>\n",
       "    <tr>\n",
       "      <th>종목</th>\n",
       "      <td>운동장</td>\n",
       "      <td>농구장</td>\n",
       "    </tr>\n",
       "    <tr>\n",
       "      <th>주소</th>\n",
       "      <td>광주 북구 매곡동 238</td>\n",
       "      <td>광주 북구 삼각동 792-1</td>\n",
       "    </tr>\n",
       "    <tr>\n",
       "      <th>이름</th>\n",
       "      <td>전라남도공무원교육원 운동장</td>\n",
       "      <td>가작어린이공원 농구장</td>\n",
       "    </tr>\n",
       "    <tr>\n",
       "      <th>평점</th>\n",
       "      <td>8.27</td>\n",
       "      <td>5.21</td>\n",
       "    </tr>\n",
       "    <tr>\n",
       "      <th>투표횟수</th>\n",
       "      <td>258</td>\n",
       "      <td>975</td>\n",
       "    </tr>\n",
       "  </tbody>\n",
       "</table>\n",
       "</div>"
      ],
      "text/plain": [
       "                    0                1\n",
       "ID                  0                1\n",
       "시설종류              스포츠              스포츠\n",
       "실내/실외              실외               실외\n",
       "종목                운동장              농구장\n",
       "주소      광주 북구 매곡동 238  광주 북구 삼각동 792-1\n",
       "이름     전라남도공무원교육원 운동장      가작어린이공원 농구장\n",
       "평점               8.27             5.21\n",
       "투표횟수              258              975"
      ]
     },
     "execution_count": 55,
     "metadata": {},
     "output_type": "execute_result"
    }
   ],
   "source": [
    "df3.shape\n",
    "df3.head(2).T"
   ]
  },
  {
   "cell_type": "code",
   "execution_count": 56,
   "metadata": {},
   "outputs": [
    {
     "data": {
      "text/html": [
       "<div>\n",
       "<style scoped>\n",
       "    .dataframe tbody tr th:only-of-type {\n",
       "        vertical-align: middle;\n",
       "    }\n",
       "\n",
       "    .dataframe tbody tr th {\n",
       "        vertical-align: top;\n",
       "    }\n",
       "\n",
       "    .dataframe thead th {\n",
       "        text-align: right;\n",
       "    }\n",
       "</style>\n",
       "<table border=\"1\" class=\"dataframe\">\n",
       "  <thead>\n",
       "    <tr style=\"text-align: right;\">\n",
       "      <th></th>\n",
       "      <th>0</th>\n",
       "    </tr>\n",
       "  </thead>\n",
       "  <tbody>\n",
       "    <tr>\n",
       "      <th>ID</th>\n",
       "      <td>0</td>\n",
       "    </tr>\n",
       "    <tr>\n",
       "      <th>이름</th>\n",
       "      <td>전라남도공무원교육원 운동장</td>\n",
       "    </tr>\n",
       "    <tr>\n",
       "      <th>시설종류</th>\n",
       "      <td>스포츠</td>\n",
       "    </tr>\n",
       "    <tr>\n",
       "      <th>평점</th>\n",
       "      <td>8.27</td>\n",
       "    </tr>\n",
       "    <tr>\n",
       "      <th>투표횟수</th>\n",
       "      <td>258</td>\n",
       "    </tr>\n",
       "    <tr>\n",
       "      <th>실내/실외</th>\n",
       "      <td>실외</td>\n",
       "    </tr>\n",
       "    <tr>\n",
       "      <th>종목</th>\n",
       "      <td>운동장</td>\n",
       "    </tr>\n",
       "  </tbody>\n",
       "</table>\n",
       "</div>"
      ],
      "text/plain": [
       "                    0\n",
       "ID                  0\n",
       "이름     전라남도공무원교육원 운동장\n",
       "시설종류              스포츠\n",
       "평점               8.27\n",
       "투표횟수              258\n",
       "실내/실외              실외\n",
       "종목                운동장"
      ]
     },
     "execution_count": 56,
     "metadata": {},
     "output_type": "execute_result"
    }
   ],
   "source": [
    "# id, 이름, 시설종류, 평점, 투표횟수, \n",
    "# 실내/실외, 종목\n",
    "df_test = df3[ ['ID','이름', '시설종류', '평점', '투표횟수','실내/실외', '종목'] ]\n",
    "df_test.head(1).T"
   ]
  },
  {
   "cell_type": "code",
   "execution_count": 57,
   "metadata": {},
   "outputs": [
    {
     "name": "stdout",
     "output_type": "stream",
     "text": [
      "<class 'pandas.core.frame.DataFrame'>\n",
      "RangeIndex: 297 entries, 0 to 296\n",
      "Data columns (total 7 columns):\n",
      " #   Column  Non-Null Count  Dtype  \n",
      "---  ------  --------------  -----  \n",
      " 0   ID      297 non-null    int64  \n",
      " 1   이름      297 non-null    object \n",
      " 2   시설종류    297 non-null    object \n",
      " 3   평점      297 non-null    float64\n",
      " 4   투표횟수    297 non-null    int64  \n",
      " 5   실내/실외   297 non-null    object \n",
      " 6   종목      297 non-null    object \n",
      "dtypes: float64(1), int64(2), object(4)\n",
      "memory usage: 16.4+ KB\n"
     ]
    }
   ],
   "source": [
    "df_test.info()"
   ]
  },
  {
   "cell_type": "code",
   "execution_count": 58,
   "metadata": {},
   "outputs": [
    {
     "data": {
      "text/html": [
       "<div>\n",
       "<style scoped>\n",
       "    .dataframe tbody tr th:only-of-type {\n",
       "        vertical-align: middle;\n",
       "    }\n",
       "\n",
       "    .dataframe tbody tr th {\n",
       "        vertical-align: top;\n",
       "    }\n",
       "\n",
       "    .dataframe thead th {\n",
       "        text-align: right;\n",
       "    }\n",
       "</style>\n",
       "<table border=\"1\" class=\"dataframe\">\n",
       "  <thead>\n",
       "    <tr style=\"text-align: right;\">\n",
       "      <th></th>\n",
       "      <th>시설종류</th>\n",
       "      <th>종목</th>\n",
       "    </tr>\n",
       "  </thead>\n",
       "  <tbody>\n",
       "    <tr>\n",
       "      <th>0</th>\n",
       "      <td>스포츠</td>\n",
       "      <td>운동장</td>\n",
       "    </tr>\n",
       "  </tbody>\n",
       "</table>\n",
       "</div>"
      ],
      "text/plain": [
       "  시설종류   종목\n",
       "0  스포츠  운동장"
      ]
     },
     "execution_count": 58,
     "metadata": {},
     "output_type": "execute_result"
    }
   ],
   "source": [
    "pd.set_option('max_colwidth', 200)\n",
    "df[ ['시설종류', '종목'] ][:1]"
   ]
  },
  {
   "cell_type": "code",
   "execution_count": 59,
   "metadata": {},
   "outputs": [],
   "source": [
    "# # 문자열을 객체로 변환\n",
    "# # list [dict1, dict2]\n",
    "# from ast import literal_eval\n",
    "\n",
    "# literal_eval('[{\"ID\": 28, \"시설종류\": \"Action\"}]')"
   ]
  },
  {
   "cell_type": "code",
   "execution_count": 60,
   "metadata": {},
   "outputs": [],
   "source": [
    "# # literal_eval( df['genres'][:1][0] )\n",
    "# df_test['시설종류'] = df_test['시설종류'].apply(literal_eval)\n",
    "# df_test['종목'] = df_test['종목'].apply(literal_eval)\n",
    "# df_test[ ['시설종류', '종목'] ][:1]"
   ]
  },
  {
   "cell_type": "code",
   "execution_count": 61,
   "metadata": {},
   "outputs": [
    {
     "data": {
      "text/plain": [
       "(297, 26)"
      ]
     },
     "execution_count": 61,
     "metadata": {},
     "output_type": "execute_result"
    }
   ],
   "source": [
    "from sklearn.feature_extraction.text import CountVectorizer\n",
    "\n",
    "# CountVectorizer를 적용하기 위해 공백문자로 word 단위가 구분되는 문자열로 변환. \n",
    "# df_test['종목_정확도'] = df_test['종목'].apply(lambda x : (' ').join( x ))\n",
    "count_vect = CountVectorizer(min_df=0, ngram_range=(1, 2))\n",
    "genre_mat = count_vect.fit_transform( df['종목'] )\n",
    "genre_mat.shape"
   ]
  },
  {
   "cell_type": "code",
   "execution_count": 62,
   "metadata": {},
   "outputs": [
    {
     "data": {
      "text/plain": [
       "array([[0, 0, 0, 0, 0, 0, 0, 0, 0, 0, 0, 0, 0, 1, 0, 0, 0, 0, 0, 0, 0, 0,\n",
       "        0, 0, 0, 0]], dtype=int64)"
      ]
     },
     "execution_count": 62,
     "metadata": {},
     "output_type": "execute_result"
    }
   ],
   "source": [
    "# print( genre_mat[:1] )\n",
    "genre_mat[:1].toarray()"
   ]
  },
  {
   "cell_type": "code",
   "execution_count": 63,
   "metadata": {},
   "outputs": [
    {
     "data": {
      "text/plain": [
       "(297, 297)"
      ]
     },
     "execution_count": 63,
     "metadata": {},
     "output_type": "execute_result"
    }
   ],
   "source": [
    "# 코사인 유사도 계산계산\n",
    "# 반환된 코사인 유사도 행렬의 크기 및 앞 2개 데이터만 추출\n",
    "from sklearn.metrics.pairwise import cosine_similarity\n",
    "\n",
    "genre_sim = cosine_similarity(genre_mat, genre_mat)\n",
    "genre_sim.shape"
   ]
  },
  {
   "cell_type": "code",
   "execution_count": 64,
   "metadata": {},
   "outputs": [
    {
     "data": {
      "text/plain": [
       "array([[1., 0., 0., 0., 0., 0., 0., 0., 0., 0., 0., 0., 0., 0., 0., 0.,\n",
       "        0., 0., 0., 0., 0., 0., 0., 0., 0., 0., 0., 0., 0., 0., 0., 0.,\n",
       "        0., 0., 0., 0., 0., 0., 0., 0., 0., 0., 0., 0., 0., 0., 0., 0.,\n",
       "        0., 0., 0., 0., 0., 0., 0., 0., 0., 0., 0., 0., 0., 0., 0., 0.,\n",
       "        0., 0., 0., 0., 0., 1., 0., 0., 0., 0., 0., 1., 0., 0., 0., 0.,\n",
       "        0., 0., 0., 0., 0., 0., 0., 0., 0., 1., 0., 0., 0., 0., 0., 0.,\n",
       "        0., 0., 0., 0., 0., 0., 0., 0., 0., 0., 0., 0., 0., 0., 0., 0.,\n",
       "        0., 0., 0., 0., 0., 0., 0., 0., 0., 0., 0., 0., 0., 0., 0., 0.,\n",
       "        0., 0., 0., 0., 0., 0., 0., 0., 0., 0., 0., 0., 0., 0., 0., 0.,\n",
       "        0., 0., 0., 0., 0., 0., 0., 0., 0., 0., 0., 0., 0., 0., 0., 0.,\n",
       "        0., 0., 0., 0., 0., 0., 0., 0., 0., 0., 0., 0., 0., 0., 0., 0.,\n",
       "        0., 0., 0., 0., 0., 0., 0., 0., 0., 0., 0., 0., 0., 0., 0., 0.,\n",
       "        0., 0., 0., 0., 0., 0., 0., 0., 0., 0., 0., 0., 0., 0., 0., 0.,\n",
       "        0., 0., 0., 0., 0., 0., 0., 0., 0., 0., 0., 0., 0., 0., 0., 0.,\n",
       "        0., 0., 0., 0., 0., 0., 0., 0., 0., 0., 0., 0., 0., 0., 0., 0.,\n",
       "        0., 0., 0., 0., 0., 0., 0., 0., 0., 0., 0., 0., 0., 0., 0., 0.,\n",
       "        0., 0., 0., 0., 0., 0., 0., 0., 0., 0., 0., 0., 0., 0., 0., 0.,\n",
       "        0., 0., 0., 0., 0., 0., 0., 0., 0., 0., 0., 0., 0., 0., 0., 0.,\n",
       "        0., 0., 0., 0., 0., 0., 0., 0., 0.],\n",
       "       [0., 1., 0., 1., 1., 0., 0., 0., 0., 0., 0., 0., 0., 0., 0., 1.,\n",
       "        0., 1., 0., 0., 0., 0., 0., 0., 0., 0., 0., 0., 0., 0., 0., 0.,\n",
       "        0., 0., 0., 0., 0., 1., 0., 0., 0., 0., 0., 0., 0., 0., 0., 0.,\n",
       "        0., 0., 0., 0., 0., 0., 0., 1., 0., 0., 0., 0., 0., 0., 0., 1.,\n",
       "        0., 0., 0., 0., 0., 0., 0., 0., 0., 0., 0., 0., 0., 0., 0., 0.,\n",
       "        1., 0., 0., 1., 0., 0., 0., 0., 0., 0., 0., 0., 0., 0., 0., 0.,\n",
       "        0., 0., 0., 0., 0., 0., 0., 0., 0., 0., 0., 0., 0., 0., 0., 0.,\n",
       "        0., 0., 0., 0., 0., 0., 0., 0., 0., 0., 0., 0., 0., 0., 0., 0.,\n",
       "        0., 0., 0., 0., 0., 0., 0., 0., 0., 0., 0., 0., 0., 0., 0., 0.,\n",
       "        0., 0., 0., 0., 0., 0., 0., 0., 0., 0., 0., 0., 0., 0., 0., 0.,\n",
       "        0., 0., 0., 0., 0., 0., 0., 0., 0., 0., 0., 0., 0., 0., 0., 0.,\n",
       "        0., 0., 0., 0., 0., 0., 0., 0., 0., 0., 0., 0., 0., 0., 0., 0.,\n",
       "        0., 0., 0., 0., 0., 0., 0., 0., 0., 0., 0., 0., 0., 0., 0., 0.,\n",
       "        0., 0., 0., 0., 0., 0., 0., 0., 0., 0., 0., 0., 0., 0., 0., 0.,\n",
       "        0., 0., 0., 0., 0., 0., 0., 0., 0., 0., 0., 0., 0., 0., 0., 0.,\n",
       "        0., 0., 0., 0., 0., 0., 0., 0., 0., 0., 0., 0., 0., 0., 0., 0.,\n",
       "        0., 0., 0., 0., 0., 0., 0., 0., 0., 0., 0., 0., 0., 0., 0., 0.,\n",
       "        0., 0., 0., 0., 0., 0., 0., 0., 0., 0., 0., 0., 0., 0., 0., 0.,\n",
       "        0., 0., 0., 0., 0., 0., 0., 0., 0.]])"
      ]
     },
     "execution_count": 64,
     "metadata": {},
     "output_type": "execute_result"
    }
   ],
   "source": [
    "genre_sim[:2]"
   ]
  },
  {
   "cell_type": "code",
   "execution_count": 65,
   "metadata": {},
   "outputs": [
    {
     "data": {
      "text/plain": [
       "(297, 297)"
      ]
     },
     "execution_count": 65,
     "metadata": {},
     "output_type": "execute_result"
    }
   ],
   "source": [
    "# 유사도가 높은 순으로 정리된 genre_sim 객체의 비교 행 위치 인덱스 값\n",
    "# 값이 높은 순으로 정렬된 비교 대상 행의 유사도 값이 아니라\n",
    "# 비교 대상 행의 위치 인덱스임에 주의\n",
    "genre_sim_sorted_ind = genre_sim.argsort()[:, ::-1]\n",
    "genre_sim_sorted_ind.shape"
   ]
  },
  {
   "cell_type": "code",
   "execution_count": 66,
   "metadata": {},
   "outputs": [],
   "source": [
    "# # 이름 유사도에 따라 시설를 추천하는 함수를 생성\n",
    "# # movies_df DataFrame, \n",
    "# # 레코드별 이름 코사인 유사도 인덱스를 가지는 genre_sim_sorted_ind\n",
    "# # 고객이 선정한 추천 기준이 되는 시설 이름\n",
    "# # 추천할 시설 건수\n",
    "# # return : 추천 시설 정보 DataFrame\n",
    "# def find_sim_movie(df_test, sorted_ind, title_name, top_n=5):\n",
    "#   title_movie = df_test[df_test['이름'] == title_name]\n",
    "#   title_index = title_movie.index.values\n",
    "\n",
    "#   sim_index = sorted_ind[title_index, :top_n]\n",
    "#   sim_index = sim_index.reshape(-1)\n",
    "\n",
    "#   return df_test.iloc[sim_index]\n",
    "\n",
    "# sim_movies = find_sim_movie(df_test, genre_sim_sorted_ind, '우산수영장')\n",
    "# sim_movies[['이름', '평점', '투표횟수', '실내/실외']]"
   ]
  },
  {
   "cell_type": "code",
   "execution_count": 67,
   "metadata": {},
   "outputs": [
    {
     "data": {
      "text/html": [
       "<div>\n",
       "<style scoped>\n",
       "    .dataframe tbody tr th:only-of-type {\n",
       "        vertical-align: middle;\n",
       "    }\n",
       "\n",
       "    .dataframe tbody tr th {\n",
       "        vertical-align: top;\n",
       "    }\n",
       "\n",
       "    .dataframe thead th {\n",
       "        text-align: right;\n",
       "    }\n",
       "</style>\n",
       "<table border=\"1\" class=\"dataframe\">\n",
       "  <thead>\n",
       "    <tr style=\"text-align: right;\">\n",
       "      <th></th>\n",
       "      <th>이름</th>\n",
       "      <th>평점</th>\n",
       "      <th>투표횟수</th>\n",
       "    </tr>\n",
       "  </thead>\n",
       "  <tbody>\n",
       "    <tr>\n",
       "      <th>74</th>\n",
       "      <td>광주광역시 동구다목적체육관</td>\n",
       "      <td>10.00</td>\n",
       "      <td>153</td>\n",
       "    </tr>\n",
       "    <tr>\n",
       "      <th>117</th>\n",
       "      <td>국윤미술관</td>\n",
       "      <td>9.99</td>\n",
       "      <td>836</td>\n",
       "    </tr>\n",
       "    <tr>\n",
       "      <th>148</th>\n",
       "      <td>궁동예술극장</td>\n",
       "      <td>9.96</td>\n",
       "      <td>493</td>\n",
       "    </tr>\n",
       "    <tr>\n",
       "      <th>21</th>\n",
       "      <td>첨단체육공원 축구장</td>\n",
       "      <td>9.92</td>\n",
       "      <td>965</td>\n",
       "    </tr>\n",
       "    <tr>\n",
       "      <th>33</th>\n",
       "      <td>전천후 테니스장</td>\n",
       "      <td>9.89</td>\n",
       "      <td>655</td>\n",
       "    </tr>\n",
       "    <tr>\n",
       "      <th>...</th>\n",
       "      <td>...</td>\n",
       "      <td>...</td>\n",
       "      <td>...</td>\n",
       "    </tr>\n",
       "    <tr>\n",
       "      <th>72</th>\n",
       "      <td>광주광역시 동구 금호게이트볼장</td>\n",
       "      <td>5.16</td>\n",
       "      <td>666</td>\n",
       "    </tr>\n",
       "    <tr>\n",
       "      <th>119</th>\n",
       "      <td>무등갤러리</td>\n",
       "      <td>5.15</td>\n",
       "      <td>25</td>\n",
       "    </tr>\n",
       "    <tr>\n",
       "      <th>232</th>\n",
       "      <td>넓으실</td>\n",
       "      <td>5.14</td>\n",
       "      <td>10</td>\n",
       "    </tr>\n",
       "    <tr>\n",
       "      <th>290</th>\n",
       "      <td>더셰프</td>\n",
       "      <td>5.06</td>\n",
       "      <td>800</td>\n",
       "    </tr>\n",
       "    <tr>\n",
       "      <th>100</th>\n",
       "      <td>운남생활체육시설단지 축구장</td>\n",
       "      <td>5.01</td>\n",
       "      <td>775</td>\n",
       "    </tr>\n",
       "  </tbody>\n",
       "</table>\n",
       "<p>297 rows × 3 columns</p>\n",
       "</div>"
      ],
      "text/plain": [
       "                   이름     평점  투표횟수\n",
       "74     광주광역시 동구다목적체육관  10.00   153\n",
       "117             국윤미술관   9.99   836\n",
       "148            궁동예술극장   9.96   493\n",
       "21         첨단체육공원 축구장   9.92   965\n",
       "33           전천후 테니스장   9.89   655\n",
       "..                ...    ...   ...\n",
       "72   광주광역시 동구 금호게이트볼장   5.16   666\n",
       "119             무등갤러리   5.15    25\n",
       "232               넓으실   5.14    10\n",
       "290               더셰프   5.06   800\n",
       "100    운남생활체육시설단지 축구장   5.01   775\n",
       "\n",
       "[297 rows x 3 columns]"
      ]
     },
     "execution_count": 67,
     "metadata": {},
     "output_type": "execute_result"
    }
   ],
   "source": [
    "df_test[['이름', '평점', '투표횟수']].sort_values(\n",
    "    '평점', ascending=False)"
   ]
  },
  {
   "cell_type": "code",
   "execution_count": 68,
   "metadata": {},
   "outputs": [
    {
     "data": {
      "text/plain": [
       "(7.4468686868686875, 563.9999999999999)"
      ]
     },
     "execution_count": 68,
     "metadata": {},
     "output_type": "execute_result"
    }
   ],
   "source": [
    "C = df_test['평점'].mean()\n",
    "m = df_test['투표횟수'].quantile(0.6)\n",
    "C, m"
   ]
  },
  {
   "cell_type": "code",
   "execution_count": 69,
   "metadata": {},
   "outputs": [],
   "source": [
    "# 기존 평점을 가중 평점으로 변경하는 함수\n",
    "def weighted_vote_average(record):\n",
    "  v = record['투표횟수']\n",
    "  R = record['평점']\n",
    "  # (예정)날씨 관련 수식을 추가 => 실내외 구분\n",
    "  return ( (v/(v+m)) * R ) + ( (m/(v+m)) * C )\n",
    "\n",
    "df_test['추천점수'] = df_test.apply(weighted_vote_average, axis=1)"
   ]
  },
  {
   "cell_type": "code",
   "execution_count": 70,
   "metadata": {},
   "outputs": [
    {
     "data": {
      "text/html": [
       "<div>\n",
       "<style scoped>\n",
       "    .dataframe tbody tr th:only-of-type {\n",
       "        vertical-align: middle;\n",
       "    }\n",
       "\n",
       "    .dataframe tbody tr th {\n",
       "        vertical-align: top;\n",
       "    }\n",
       "\n",
       "    .dataframe thead th {\n",
       "        text-align: right;\n",
       "    }\n",
       "</style>\n",
       "<table border=\"1\" class=\"dataframe\">\n",
       "  <thead>\n",
       "    <tr style=\"text-align: right;\">\n",
       "      <th></th>\n",
       "      <th>이름</th>\n",
       "      <th>평점</th>\n",
       "      <th>투표횟수</th>\n",
       "      <th>추천점수</th>\n",
       "    </tr>\n",
       "  </thead>\n",
       "  <tbody>\n",
       "    <tr>\n",
       "      <th>21</th>\n",
       "      <td>첨단체육공원 축구장</td>\n",
       "      <td>9.92</td>\n",
       "      <td>965</td>\n",
       "      <td>9.007740</td>\n",
       "    </tr>\n",
       "    <tr>\n",
       "      <th>117</th>\n",
       "      <td>국윤미술관</td>\n",
       "      <td>9.99</td>\n",
       "      <td>836</td>\n",
       "      <td>8.965481</td>\n",
       "    </tr>\n",
       "    <tr>\n",
       "      <th>209</th>\n",
       "      <td>양림골목비엔날레</td>\n",
       "      <td>9.88</td>\n",
       "      <td>934</td>\n",
       "      <td>8.963921</td>\n",
       "    </tr>\n",
       "    <tr>\n",
       "      <th>170</th>\n",
       "      <td>광주학생독립운동기념관</td>\n",
       "      <td>9.77</td>\n",
       "      <td>985</td>\n",
       "      <td>8.924134</td>\n",
       "    </tr>\n",
       "    <tr>\n",
       "      <th>292</th>\n",
       "      <td>어나더키친</td>\n",
       "      <td>9.86</td>\n",
       "      <td>839</td>\n",
       "      <td>8.889932</td>\n",
       "    </tr>\n",
       "    <tr>\n",
       "      <th>...</th>\n",
       "      <td>...</td>\n",
       "      <td>...</td>\n",
       "      <td>...</td>\n",
       "      <td>...</td>\n",
       "    </tr>\n",
       "    <tr>\n",
       "      <th>46</th>\n",
       "      <td>광주광역시 서구 국민체육센터</td>\n",
       "      <td>5.32</td>\n",
       "      <td>839</td>\n",
       "      <td>6.174992</td>\n",
       "    </tr>\n",
       "    <tr>\n",
       "      <th>194</th>\n",
       "      <td>호가정</td>\n",
       "      <td>5.41</td>\n",
       "      <td>968</td>\n",
       "      <td>6.159865</td>\n",
       "    </tr>\n",
       "    <tr>\n",
       "      <th>290</th>\n",
       "      <td>더셰프</td>\n",
       "      <td>5.06</td>\n",
       "      <td>800</td>\n",
       "      <td>6.046946</td>\n",
       "    </tr>\n",
       "    <tr>\n",
       "      <th>100</th>\n",
       "      <td>운남생활체육시설단지 축구장</td>\n",
       "      <td>5.01</td>\n",
       "      <td>775</td>\n",
       "      <td>6.036433</td>\n",
       "    </tr>\n",
       "    <tr>\n",
       "      <th>1</th>\n",
       "      <td>가작어린이공원 농구장</td>\n",
       "      <td>5.21</td>\n",
       "      <td>975</td>\n",
       "      <td>6.029749</td>\n",
       "    </tr>\n",
       "  </tbody>\n",
       "</table>\n",
       "<p>297 rows × 4 columns</p>\n",
       "</div>"
      ],
      "text/plain": [
       "                  이름    평점  투표횟수      추천점수\n",
       "21        첨단체육공원 축구장  9.92   965  9.007740\n",
       "117            국윤미술관  9.99   836  8.965481\n",
       "209         양림골목비엔날레  9.88   934  8.963921\n",
       "170      광주학생독립운동기념관  9.77   985  8.924134\n",
       "292            어나더키친  9.86   839  8.889932\n",
       "..               ...   ...   ...       ...\n",
       "46   광주광역시 서구 국민체육센터  5.32   839  6.174992\n",
       "194              호가정  5.41   968  6.159865\n",
       "290              더셰프  5.06   800  6.046946\n",
       "100   운남생활체육시설단지 축구장  5.01   775  6.036433\n",
       "1        가작어린이공원 농구장  5.21   975  6.029749\n",
       "\n",
       "[297 rows x 4 columns]"
      ]
     },
     "execution_count": 70,
     "metadata": {},
     "output_type": "execute_result"
    }
   ],
   "source": [
    "# 새롭게 부여된 가중치 평점이 높은 순으로 상위 10개의 시설\n",
    "df_test[['이름', '평점', '투표횟수', '추천점수']].sort_values(\n",
    "    '추천점수', ascending=False)"
   ]
  },
  {
   "cell_type": "code",
   "execution_count": 71,
   "metadata": {},
   "outputs": [
    {
     "data": {
      "text/html": [
       "<div>\n",
       "<style scoped>\n",
       "    .dataframe tbody tr th:only-of-type {\n",
       "        vertical-align: middle;\n",
       "    }\n",
       "\n",
       "    .dataframe tbody tr th {\n",
       "        vertical-align: top;\n",
       "    }\n",
       "\n",
       "    .dataframe thead th {\n",
       "        text-align: right;\n",
       "    }\n",
       "</style>\n",
       "<table border=\"1\" class=\"dataframe\">\n",
       "  <thead>\n",
       "    <tr style=\"text-align: right;\">\n",
       "      <th></th>\n",
       "      <th>이름</th>\n",
       "      <th>종목</th>\n",
       "      <th>실내/실외</th>\n",
       "      <th>평점</th>\n",
       "      <th>투표횟수</th>\n",
       "      <th>추천점수</th>\n",
       "    </tr>\n",
       "  </thead>\n",
       "  <tbody>\n",
       "    <tr>\n",
       "      <th>168</th>\n",
       "      <td>5·18민주광장</td>\n",
       "      <td>5.18운동</td>\n",
       "      <td>실외</td>\n",
       "      <td>9.25</td>\n",
       "      <td>648</td>\n",
       "      <td>8.410919</td>\n",
       "    </tr>\n",
       "    <tr>\n",
       "      <th>96</th>\n",
       "      <td>소촌테니스장</td>\n",
       "      <td>테니스장</td>\n",
       "      <td>실외</td>\n",
       "      <td>9.31</td>\n",
       "      <td>358</td>\n",
       "      <td>8.170297</td>\n",
       "    </tr>\n",
       "    <tr>\n",
       "      <th>98</th>\n",
       "      <td>광주 송정1교 축구장</td>\n",
       "      <td>축구장</td>\n",
       "      <td>실외</td>\n",
       "      <td>8.13</td>\n",
       "      <td>503</td>\n",
       "      <td>7.768907</td>\n",
       "    </tr>\n",
       "    <tr>\n",
       "      <th>165</th>\n",
       "      <td>5·18민주화운동기록관</td>\n",
       "      <td>5.18운동</td>\n",
       "      <td>실내</td>\n",
       "      <td>8.87</td>\n",
       "      <td>98</td>\n",
       "      <td>7.657544</td>\n",
       "    </tr>\n",
       "    <tr>\n",
       "      <th>171</th>\n",
       "      <td>광주학생독립운동기념탑</td>\n",
       "      <td>5.18운동</td>\n",
       "      <td>실외</td>\n",
       "      <td>8.13</td>\n",
       "      <td>220</td>\n",
       "      <td>7.638564</td>\n",
       "    </tr>\n",
       "  </tbody>\n",
       "</table>\n",
       "</div>"
      ],
      "text/plain": [
       "               이름      종목 실내/실외    평점  투표횟수      추천점수\n",
       "168      5·18민주광장  5.18운동    실외  9.25   648  8.410919\n",
       "96         소촌테니스장    테니스장    실외  9.31   358  8.170297\n",
       "98    광주 송정1교 축구장     축구장    실외  8.13   503  7.768907\n",
       "165  5·18민주화운동기록관  5.18운동    실내  8.87    98  7.657544\n",
       "171   광주학생독립운동기념탑  5.18운동    실외  8.13   220  7.638564"
      ]
     },
     "execution_count": 71,
     "metadata": {},
     "output_type": "execute_result"
    }
   ],
   "source": [
    "# 새롭게 정의된 평점 기준에 따라 기존 find_sim_experience 함수를 변경\n",
    "def find_sim_experience(df_test, sorted_ind, title_name, top_n=5):\n",
    "  title_exp = df_test[df_test['이름'] == title_name]\n",
    "  title_index = title_exp.index.values\n",
    "\n",
    "  sim_index = sorted_ind[title_index, :top_n*3]\n",
    "  sim_index = sim_index.reshape(-1)\n",
    "\n",
    "  sim_index = sim_index[sim_index != title_index]\n",
    "\n",
    "  return df_test.iloc[sim_index].sort_values(\n",
    "    '추천점수', ascending=False)[:top_n]\n",
    "\n",
    "\n",
    "sim_exp = find_sim_experience(df_test, genre_sim_sorted_ind, '광주학생독립운동기념관')\n",
    "sim_exp[['이름', '종목', '실내/실외', '평점', '투표횟수', '추천점수']]"
   ]
  },
  {
   "cell_type": "code",
   "execution_count": 72,
   "metadata": {},
   "outputs": [
    {
     "data": {
      "text/html": [
       "<div>\n",
       "<style scoped>\n",
       "    .dataframe tbody tr th:only-of-type {\n",
       "        vertical-align: middle;\n",
       "    }\n",
       "\n",
       "    .dataframe tbody tr th {\n",
       "        vertical-align: top;\n",
       "    }\n",
       "\n",
       "    .dataframe thead th {\n",
       "        text-align: right;\n",
       "    }\n",
       "</style>\n",
       "<table border=\"1\" class=\"dataframe\">\n",
       "  <thead>\n",
       "    <tr style=\"text-align: right;\">\n",
       "      <th></th>\n",
       "      <th>이름</th>\n",
       "      <th>종목</th>\n",
       "      <th>실내/실외</th>\n",
       "      <th>평점</th>\n",
       "      <th>투표횟수</th>\n",
       "      <th>추천점수</th>\n",
       "    </tr>\n",
       "  </thead>\n",
       "  <tbody>\n",
       "    <tr>\n",
       "      <th>257</th>\n",
       "      <td>해남성내식당</td>\n",
       "      <td>맛집</td>\n",
       "      <td>실내</td>\n",
       "      <td>9.83</td>\n",
       "      <td>765</td>\n",
       "      <td>8.818649</td>\n",
       "    </tr>\n",
       "    <tr>\n",
       "      <th>254</th>\n",
       "      <td>서울장수국수</td>\n",
       "      <td>맛집</td>\n",
       "      <td>실내</td>\n",
       "      <td>9.49</td>\n",
       "      <td>826</td>\n",
       "      <td>8.660988</td>\n",
       "    </tr>\n",
       "    <tr>\n",
       "      <th>296</th>\n",
       "      <td>퍼스트앨리웨이</td>\n",
       "      <td>맛집</td>\n",
       "      <td>실내</td>\n",
       "      <td>9.57</td>\n",
       "      <td>457</td>\n",
       "      <td>8.397183</td>\n",
       "    </tr>\n",
       "    <tr>\n",
       "      <th>252</th>\n",
       "      <td>미진</td>\n",
       "      <td>맛집</td>\n",
       "      <td>실내</td>\n",
       "      <td>8.95</td>\n",
       "      <td>401</td>\n",
       "      <td>8.071486</td>\n",
       "    </tr>\n",
       "    <tr>\n",
       "      <th>249</th>\n",
       "      <td>김가원</td>\n",
       "      <td>맛집</td>\n",
       "      <td>실내</td>\n",
       "      <td>9.00</td>\n",
       "      <td>374</td>\n",
       "      <td>8.066134</td>\n",
       "    </tr>\n",
       "  </tbody>\n",
       "</table>\n",
       "</div>"
      ],
      "text/plain": [
       "          이름  종목 실내/실외    평점  투표횟수      추천점수\n",
       "257   해남성내식당  맛집    실내  9.83   765  8.818649\n",
       "254   서울장수국수  맛집    실내  9.49   826  8.660988\n",
       "296  퍼스트앨리웨이  맛집    실내  9.57   457  8.397183\n",
       "252       미진  맛집    실내  8.95   401  8.071486\n",
       "249      김가원  맛집    실내  9.00   374  8.066134"
      ]
     },
     "execution_count": 72,
     "metadata": {},
     "output_type": "execute_result"
    }
   ],
   "source": [
    "# # 새롭게 정의된 평점 기준에 따라 기존 find_sim_experience 함수를 변경\n",
    "# def find_sim_experience(df_test, sorted_ind, title_name, top_n=5):\n",
    "#   title_exp = df_test[df_test['이름'] == title_name]\n",
    "#   title_index = title_exp.index.values\n",
    "\n",
    "#   sim_index = sorted_ind[title_index, :top_n*3]\n",
    "#   sim_index = sim_index.reshape(-1)\n",
    "\n",
    "#   sim_index = sim_index[sim_index != title_index]\n",
    "\n",
    "#   return df_test.iloc[sim_index].sort_values(\n",
    "#     '추천점수', ascending=False)[:top_n]\n",
    "\n",
    "# name = str(input())\n",
    "# sim_exp = find_sim_experience(df_test, genre_sim_sorted_ind, name)\n",
    "# sim_exp[['이름', '종목', '실내/실외', '평점', '투표횟수', '추천점수']]"
   ]
  }
 ],
 "metadata": {
  "interpreter": {
   "hash": "5327134b4d9c90ef246a62c4b08a4aaf90b0cea1e5a2b066b88c3413ddfa8b04"
  },
  "kernelspec": {
   "display_name": "Python 3.8.10 64-bit ('dacon': conda)",
   "name": "python3"
  },
  "language_info": {
   "codemirror_mode": {
    "name": "ipython",
    "version": 3
   },
   "file_extension": ".py",
   "mimetype": "text/x-python",
   "name": "python",
   "nbconvert_exporter": "python",
   "pygments_lexer": "ipython3",
   "version": "3.8.10"
  },
  "orig_nbformat": 4
 },
 "nbformat": 4,
 "nbformat_minor": 2
}
