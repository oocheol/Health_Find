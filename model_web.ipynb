{
 "cells": [
  {
   "cell_type": "code",
   "execution_count": 10,
   "metadata": {},
   "outputs": [],
   "source": [
    "import pandas as pd\n",
    "import numpy as np\n",
    "from sklearn.feature_extraction.text import CountVectorizer\n",
    "from sklearn.metrics.pairwise import cosine_similarity\n",
    "import warnings; warnings.filterwarnings('ignore')\n",
    "\n",
    "# data 불러오기\n",
    "def load_data():\n",
    "    global df_main, df2\n",
    "    \n",
    "    df1 = pd.read_csv('./data/df.csv')\n",
    "    df2 = pd.read_csv(\"./data/weather.csv\")\n",
    "    \n",
    "    # 필요한 부분만 추출\n",
    "    df_main = df1[ ['ID','이름', '대분류','소분류', '평점', '투표횟수','실내/실외', '태깅'] ]\n",
    "\n",
    "    return df_main, df2\n"
   ]
  },
  {
   "cell_type": "code",
   "execution_count": 11,
   "metadata": {},
   "outputs": [],
   "source": [
    "def countVec():\n",
    "    # CountVectorizer를 적용하기 위해 공백문자로 word 단위가 구분되는 문자열로 변환. \n",
    "    count_vect = CountVectorizer(min_df=0, ngram_range=(1, 2))\n",
    "    facility_mat = count_vect.fit_transform( df_main['태깅'] )\n",
    "    facility_sim = cosine_similarity(facility_mat, facility_mat)\n",
    "\n",
    "    # 유사도가 높은 순으로 정리된 facility_sim 객체의 비교 행 위치 인덱스 값\n",
    "    # 값이 높은 순으로 정렬된 비교 대상 행의 유사도 값이 아니라\n",
    "    # 비교 대상 행의 위치 인덱스임에 주의\n",
    "    facility_sim_sorted_ind = facility_sim.argsort()[:, ::-1]\n",
    "    \n",
    "    return facility_sim_sorted_ind"
   ]
  },
  {
   "cell_type": "code",
   "execution_count": 12,
   "metadata": {},
   "outputs": [],
   "source": [
    "# 기존 평점을 가중 평점으로 변경하는 함수\n",
    "def weighted_vote_average(record):\n",
    "  C = df_main['평점'].mean()\n",
    "  m = df_main['투표횟수'].quantile(0.6)\n",
    "  \n",
    "  v = record['투표횟수']\n",
    "  R = record['평점']\n",
    "  # (예정)날씨 관련 수식을 추가 => 실내외 구분시 활용\n",
    "  return ( ( (v/(v+m)) * R ) + ( (m/(v+m)) * C ) ) *2\n",
    "\n"
   ]
  },
  {
   "cell_type": "code",
   "execution_count": 13,
   "metadata": {},
   "outputs": [],
   "source": [
    "def weight_data():\n",
    "    df_main['추천점수'] = df_main.apply(weighted_vote_average, axis=1)\n",
    "\n",
    "    # 새롭게 부여된 가중치 평점이 높은 순으로 상위 10개의 시설\n",
    "    df_head_1 = df_main[['이름','대분류', '소분류', '실내/실외', '평점', '투표횟수', '추천점수']][df_main['소분류']=='미술관'].sort_values(\n",
    "        '추천점수', ascending=False).head(1)\n",
    "    df_head_2 = df_main[['이름','대분류', '소분류', '실내/실외', '평점', '투표횟수', '추천점수']][df_main['소분류']=='박물관'].sort_values(\n",
    "        '추천점수', ascending=False).head(1)\n",
    "    df_head_3 = df_main[['이름','대분류', '소분류', '실내/실외', '평점', '투표횟수', '추천점수']][df_main['소분류']=='공연장'].sort_values(\n",
    "        '추천점수', ascending=False).head(1)\n",
    "    df_head_4 = df_main[['이름','대분류', '소분류', '실내/실외', '평점', '투표횟수', '추천점수']][df_main['소분류']=='전통문화'].sort_values(\n",
    "        '추천점수', ascending=False).head(1)\n",
    "    df_head_5 = df_main[['이름','대분류', '소분류', '실내/실외', '평점', '투표횟수', '추천점수']][df_main['소분류']=='5.18운동'].sort_values(\n",
    "        '추천점수', ascending=False).head(1)\n",
    "    df_head_6 = df_main[['이름','대분류', '소분류', '실내/실외', '평점', '투표횟수', '추천점수']][df_main['소분류']=='사찰/기독교'].sort_values(\n",
    "        '추천점수', ascending=False).head(1)\n",
    "    df_head_7 = df_main[['이름','대분류', '소분류', '실내/실외', '평점', '투표횟수', '추천점수']][df_main['소분류']=='선비문화'].sort_values(\n",
    "        '추천점수', ascending=False).head(1)\n",
    "    df_head_8 = df_main[['이름','대분류', '소분류', '실내/실외', '평점', '투표횟수', '추천점수']][df_main['소분류']=='문화유산'].sort_values(\n",
    "        '추천점수', ascending=False).head(1)\n",
    "    df_head_9 = df_main[['이름','대분류', '소분류', '실내/실외', '평점', '투표횟수', '추천점수']][df_main['소분류']=='체험'].sort_values(\n",
    "        '추천점수', ascending=False).head(1)\n",
    "    df_head_10 = df_main[['이름','대분류', '소분류', '실내/실외', '평점', '투표횟수', '추천점수']][df_main['소분류']=='공원'].sort_values(\n",
    "        '추천점수', ascending=False).head(1)\n",
    "    df_head_11 = df_main[['이름','대분류', '소분류', '실내/실외', '평점', '투표횟수', '추천점수']][df_main['소분류']=='맛집'].sort_values(\n",
    "        '추천점수', ascending=False).head(1)\n",
    "    df_head_12 = df_main[['이름','대분류', '소분류', '실내/실외', '평점', '투표횟수', '추천점수']][df_main['소분류']=='시장'].sort_values(\n",
    "        '추천점수', ascending=False).head(1)\n",
    "    df_head_13 = df_main[['이름','대분류', '소분류', '실내/실외', '평점', '투표횟수', '추천점수']][df_main['소분류']=='스포츠'].sort_values(\n",
    "        '추천점수', ascending=False).head(1)\n",
    "    df_head_14 = df_main[['이름','대분류', '소분류', '실내/실외', '평점', '투표횟수', '추천점수']][df_main['소분류']=='마을'].sort_values(\n",
    "        '추천점수', ascending=False).head(1)\n",
    "\n",
    "    result_df = pd.concat([df_head_1,df_head_2,df_head_3,df_head_4,df_head_5,df_head_6,df_head_7,df_head_8,df_head_9,df_head_10,df_head_11,df_head_12,df_head_13, df_head_14])\n",
    "    return result_df\n",
    "    "
   ]
  },
  {
   "cell_type": "code",
   "execution_count": 14,
   "metadata": {},
   "outputs": [],
   "source": [
    "# 새롭게 정의된 평점 기준에 따라 기존 find_sim_experience 함수를 변경\n",
    "def find_sim_experience(df_main, sorted_ind, title_name, top_n=10, end_idx=10):\n",
    "  weight_data()\n",
    "  title_exp = df_main[df_main['이름'] == title_name]\n",
    "  title_index = title_exp.index.values\n",
    "\n",
    "  sim_index = sorted_ind[title_index, :top_n*3]\n",
    "  sim_index = sim_index.reshape(-1)\n",
    "\n",
    "  sim_index = sim_index[sim_index != title_index]\n",
    "\n",
    "  return df_main.iloc[sim_index].sort_values(\n",
    "    '추천점수', ascending=False)[:end_idx]\n",
    "\n",
    "# 우천시 추천리스트 10개 출력\n",
    "def find_sim_experience_rainy(df_main, sorted_ind, title_name, top_n=10):\n",
    "  weight_data()\n",
    "  title_exp = df_main[df_main['이름'] == title_name]\n",
    "  title_index = title_exp.index.values\n",
    "\n",
    "  sim_index = sorted_ind[title_index, :top_n*3]\n",
    "  sim_index = sim_index.reshape(-1)\n",
    "\n",
    "  sim_index = sim_index[sim_index != title_index]\n",
    "\n",
    "  return df_main.iloc[sim_index].sort_values(\n",
    "    '추천점수', ascending=False)[:]\n"
   ]
  },
  {
   "cell_type": "code",
   "execution_count": 15,
   "metadata": {},
   "outputs": [],
   "source": [
    "def input_title(input_name):\n",
    "    facility_sim_sorted_ind = countVec()\n",
    "    global result_sunny, result_rain\n",
    "\n",
    "    sim_exp = find_sim_experience(df_main, facility_sim_sorted_ind, input_name)\n",
    "    sim_exp_rainy = find_sim_experience_rainy(df_main, facility_sim_sorted_ind, input_name)\n",
    "    result_sunny = sim_exp[['이름', '대분류', '소분류', '실내/실외', '평점', '투표횟수', '추천점수']]\n",
    "    result_rain = sim_exp_rainy[['이름', '대분류', '소분류', '실내/실외', '평점', '투표횟수', '추천점수']]\n",
    "\n",
    "    return result_sunny, result_rain"
   ]
  },
  {
   "cell_type": "code",
   "execution_count": 16,
   "metadata": {},
   "outputs": [],
   "source": [
    "# 날씨기반 실내/외 판별 함수\n",
    "# temper = 온도 , humid = 습도 , rain = 1시간당 강수량\n",
    "\n",
    "def weather_choice(temper,humid,rain):\n",
    "  y = humid - ((-4.3 * temper) + 147)\n",
    "  if y >= 10:\n",
    "    temper = temper + (y/10)\n",
    "\n",
    "  if rain >= 5 or temper<=10 or temper>=30:\n",
    "    return '실내'\n",
    "  else:\n",
    "    return '실외'\n",
    "    "
   ]
  },
  {
   "cell_type": "code",
   "execution_count": 18,
   "metadata": {},
   "outputs": [
    {
     "name": "stdout",
     "output_type": "stream",
     "text": [
      "          이름  대분류 소분류 실내/실외   평점  투표횟수      추천점수\n",
      "138  100족발본점  먹거리  맛집    실내  4.8   187  8.695477\n",
      "148   오얏리돌솥밥  먹거리  맛집    실내  4.2   532  8.208984\n",
      "149      유진정  먹거리  맛집    실내  4.2   195  8.016137\n",
      "145     뜨락쌈밥  먹거리  맛집    실내  4.1   350  7.994653\n",
      "108      남가정  먹거리  맛집    실내  4.2   144  7.946911\n",
      "153      마천루  먹거리  맛집    실내  4.0   690  7.912387\n",
      "132     송하회관  먹거리  맛집    실내  4.2   116  7.897121\n",
      "137       효정  먹거리  맛집    실내  4.2   114  7.893142\n",
      "140       강촌  먹거리  맛집    실내  4.1   161  7.865198\n",
      "134   해남성내식당  먹거리  맛집    실내  4.2    99  7.861171\n"
     ]
    }
   ],
   "source": [
    "def run_model(input_name):\n",
    "    _, df2 = load_data()\n",
    "    result_sunny, result_rain = input_title(input_name)\n",
    "    \n",
    "    # 날씨로 실내/실외 필터링\n",
    "    i = 0 # 맑음 : 0 / 비 : 1\n",
    "\n",
    "    temper = df2.loc[i][0:][0] # 온도\n",
    "    humid = df2.loc[i][0:][1]  # 습도\n",
    "    rain = df2.loc[i][0:][2]   # 강수량\n",
    "        \n",
    "        # 비 -> 실내만 추천\n",
    "    if weather_choice(temper, humid, rain) == \"실내\":\n",
    "        print(result_rain[result_rain['실내/실외'] == \"실내\"][:10])\n",
    "        \n",
    "        # 맑음 -> 실내/외 모두 추천\n",
    "    else :\n",
    "        print(result_sunny)\n",
    "\n",
    "run_model('어나더키친')"
   ]
  }
 ],
 "metadata": {
  "interpreter": {
   "hash": "5327134b4d9c90ef246a62c4b08a4aaf90b0cea1e5a2b066b88c3413ddfa8b04"
  },
  "kernelspec": {
   "display_name": "Python 3.8.10 64-bit ('dacon': conda)",
   "name": "python3"
  },
  "language_info": {
   "codemirror_mode": {
    "name": "ipython",
    "version": 3
   },
   "file_extension": ".py",
   "mimetype": "text/x-python",
   "name": "python",
   "nbconvert_exporter": "python",
   "pygments_lexer": "ipython3",
   "version": "3.8.10"
  },
  "orig_nbformat": 4
 },
 "nbformat": 4,
 "nbformat_minor": 2
}
